{
 "cells": [
  {
   "cell_type": "markdown",
   "metadata": {},
   "source": [
    "### Import Libraries"
   ]
  },
  {
   "cell_type": "code",
   "execution_count": null,
   "metadata": {},
   "outputs": [],
   "source": [
    "import numpy as np\n",
    "import pandas as pd\n",
    "import time \n",
    "\n",
    "import matplotlib.pyplot as plt\n",
    "\n",
    "# from sklearn.cross_validation import cross_val_score\n",
    "from sklearn.metrics import mean_squared_error\n",
    "from sklearn.mixture import GaussianMixture\n",
    "from sklearn.model_selection import KFold\n",
    "from sklearn.model_selection import train_test_split\n",
    "from sklearn.neural_network import MLPClassifier\n",
    "from sklearn.preprocessing import StandardScaler\n",
    "from sklearn.utils import shuffle\n",
    "\n",
    "from sklearn.cluster import KMeans\n",
    "from sklearn.decomposition import PCA\n",
    "\n",
    "from textwrap import wrap"
   ]
  },
  {
   "cell_type": "code",
   "execution_count": 2,
   "metadata": {},
   "outputs": [],
   "source": [
    "from sklearn.cluster import KMeans\n",
    "from sklearn import metrics\n",
    "from scipy.spatial.distance import cdist\n",
    "import numpy as np\n",
    "import matplotlib.pyplot as plt"
   ]
  },
  {
   "cell_type": "markdown",
   "metadata": {},
   "source": [
    "### Load Dataset"
   ]
  },
  {
   "cell_type": "code",
   "execution_count": 3,
   "metadata": {},
   "outputs": [],
   "source": [
    "RANDOM_SEED = 25\n",
    "\n",
    "\n",
    "columns = ['Radius','Texture','Perimeter','Area','Smoothness','Compactness',\n",
    "           'Concavity','Concave_Points','Symmetry','Fractal_Dimension',\n",
    "           'Malignant/Benign']\n",
    "\n",
    "# Read CSV file into pandas df\n",
    "df = pd.read_csv('../datasets/breast_cancer/breast-cancer-wisconsin.csv',\n",
    "                 delimiter=',', quotechar='\"', names=columns)"
   ]
  },
  {
   "cell_type": "markdown",
   "metadata": {},
   "source": [
    "### Dataframe without Preprocessing "
   ]
  },
  {
   "cell_type": "code",
   "execution_count": 4,
   "metadata": {},
   "outputs": [
    {
     "name": "stdout",
     "output_type": "stream",
     "text": [
      "Printing dataframe head (without any preprocessing)....\n",
      "    Radius  Texture  Perimeter  Area  Smoothness  Compactness Concavity  \\\n",
      "0  1000025        5          1     1           1            2         1   \n",
      "1  1002945        5          4     4           5            7        10   \n",
      "2  1015425        3          1     1           1            2         2   \n",
      "3  1016277        6          8     8           1            3         4   \n",
      "4  1017023        4          1     1           3            2         1   \n",
      "5  1017122        8         10    10           8            7        10   \n",
      "6  1018099        1          1     1           1            2        10   \n",
      "7  1018561        2          1     2           1            2         1   \n",
      "8  1033078        2          1     1           1            2         1   \n",
      "9  1033078        4          2     1           1            2         1   \n",
      "\n",
      "   Concave_Points  Symmetry  Fractal_Dimension  Malignant/Benign  \n",
      "0               3         1                  1                 2  \n",
      "1               3         2                  1                 2  \n",
      "2               3         1                  1                 2  \n",
      "3               3         7                  1                 2  \n",
      "4               3         1                  1                 2  \n",
      "5               9         7                  1                 4  \n",
      "6               3         1                  1                 2  \n",
      "7               3         1                  1                 2  \n",
      "8               1         1                  5                 2  \n",
      "9               2         1                  1                 2  \n"
     ]
    }
   ],
   "source": [
    "print(\"Printing dataframe head (without any preprocessing)....\")\n",
    "print(df.head(10))"
   ]
  },
  {
   "cell_type": "markdown",
   "metadata": {},
   "source": [
    "### Dataset Preprocessing "
   ]
  },
  {
   "cell_type": "code",
   "execution_count": 5,
   "metadata": {},
   "outputs": [
    {
     "name": "stderr",
     "output_type": "stream",
     "text": [
      "/home/saksham/.local/lib/python3.5/site-packages/ipykernel_launcher.py:19: DeprecationWarning: \n",
      ".ix is deprecated. Please use\n",
      ".loc for label based indexing or\n",
      ".iloc for positional indexing\n",
      "\n",
      "See the documentation here:\n",
      "http://pandas.pydata.org/pandas-docs/stable/indexing.html#ix-indexer-is-deprecated\n"
     ]
    }
   ],
   "source": [
    "# Shuffle\n",
    "df = shuffle(df, random_state=RANDOM_SEED)\n",
    "\n",
    "# DROP USELESS ROWS AND COLUMNS\n",
    "df.dropna(inplace=True)\n",
    "cols = [0]\n",
    "# Drop ID column (it's not attribute or target)\n",
    "df.drop(df.columns[cols],axis=1,inplace=True)\n",
    "# Drop all data points with missing variables  (denoted by '?' entry)\n",
    "nostrings_row_list = [x.isdigit() for x in df.iloc[:,5]]\n",
    "df = df[nostrings_row_list]\n",
    "\n",
    "\n",
    "# Handle categorical data\n",
    "# df = pd.get_dummies(df)\n",
    "\n",
    "\n",
    "# Split data into X and y vectors\n",
    "X = df.ix[:, df.columns != 'Malignant/Benign']\n",
    "y = df['Malignant/Benign']\n",
    "\n",
    "# Change 2 -> 0 (benign) and 4 -> 1 (malignant)\n",
    "y.replace(2, 0, inplace=True)\n",
    "y.replace(4, 1, inplace=True)"
   ]
  },
  {
   "cell_type": "markdown",
   "metadata": {},
   "source": [
    "### Sanity Check on Dataframe \n"
   ]
  },
  {
   "cell_type": "code",
   "execution_count": 6,
   "metadata": {},
   "outputs": [
    {
     "name": "stdout",
     "output_type": "stream",
     "text": [
      "Sanity Check: Printing out dataframe and shape after preprocessing... \n",
      "     Texture  Perimeter  Area  Smoothness  Compactness Concavity  \\\n",
      "437        4          1     1           1            2         1   \n",
      "511        5          1     1           1            2         1   \n",
      "215        8          7     8           7            5         5   \n",
      "684        1          1     1           1            2         1   \n",
      "302       10         10    10           7            9        10   \n",
      "341        1          1     1           1            2         1   \n",
      "608        5         10    10          10           10        10   \n",
      "366        6         10    10          10            8        10   \n",
      "205        5         10    10           9            6        10   \n",
      "270        8          4     7           1            3        10   \n",
      "\n",
      "     Concave_Points  Symmetry  Fractal_Dimension  Malignant/Benign  \n",
      "437               1         1                  1                 0  \n",
      "511               2         1                  1                 0  \n",
      "215               5        10                  2                 1  \n",
      "684               1         1                  1                 0  \n",
      "302               7        10                 10                 1  \n",
      "341               3         1                  1                 0  \n",
      "608              10         1                  1                 1  \n",
      "366               7        10                  7                 1  \n",
      "205               7        10                  5                 1  \n",
      "270               3         9                  2                 1  \n",
      "df.shape:  (683, 10)\n"
     ]
    }
   ],
   "source": [
    "print(\"Sanity Check: Printing out dataframe and shape after preprocessing... \")\n",
    "print(df.head(10))\n",
    "print(\"df.shape: \", df.shape)\n"
   ]
  },
  {
   "cell_type": "markdown",
   "metadata": {},
   "source": [
    "### Training and Testing Split, Scaling "
   ]
  },
  {
   "cell_type": "code",
   "execution_count": null,
   "metadata": {},
   "outputs": [],
   "source": [
    "# # Split into 30%  training data, 70% testing data\n",
    "# X_train, X_test, y_train, y_test = train_test_split(X, y,\n",
    "#                                                     test_size=0.30, random_state=RANDOM_SEED)\n",
    "\n",
    "\n",
    "# # Apply scaling. Large values of certain features undesireable for NN\n",
    "# scaler = StandardScaler()\n",
    "# scaler.fit(X_train)\n",
    "# X_train = scaler.transform(X_train)\n",
    "# X_test = scaler.transform(X_test)"
   ]
  },
  {
   "cell_type": "markdown",
   "metadata": {},
   "source": [
    "### Sanity Check on X_train"
   ]
  },
  {
   "cell_type": "code",
   "execution_count": null,
   "metadata": {},
   "outputs": [],
   "source": [
    "# print(\"Sanity Check: Printing out X_train... \")\n",
    "# print(X_train[:4])\n",
    "# print(\"X_train.shape: \", X_train.shape)\n",
    "# print(\"X_test.shape: \", X_test.shape)\n",
    "# print(\"y_train.shape: \", y_train.shape)\n",
    "# print(\"y_test.shape: \", y_test.shape)"
   ]
  },
  {
   "cell_type": "markdown",
   "metadata": {},
   "source": [
    "### Run kMeans Experiments, varying k"
   ]
  },
  {
   "cell_type": "code",
   "execution_count": 11,
   "metadata": {},
   "outputs": [
    {
     "data": {
      "image/png": "[encoded data removed]",
      "text/plain": [
       "<Figure size 432x288 with 1 Axes>"
      ]
     },
     "metadata": {
      "needs_background": "light"
     },
     "output_type": "display_data"
    },
    {
     "name": "stdout",
     "output_type": "stream",
     "text": [
      "Error:  156.3103953147877\n",
      "Cluster centers:  [[ 3.94387755  1.1377551   1.26530612  1.06632653  1.98469388  1.16326531\n",
      "   1.9744898   1.10204082  1.01020408]\n",
      " [ 8.75       10.          9.66666667  8.75        6.33333333  9.25\n",
      "   8.58333333  8.16666667  1.41666667]\n",
      " [ 8.4         9.          9.          1.6         4.6         3.6\n",
      "   3.2         7.8         1.        ]\n",
      " [ 8.72727273  5.72727273  5.90909091  3.63636364  4.22727273  9.36363636\n",
      "   6.59090909  8.13636364  1.81818182]\n",
      " [ 7.25        8.125       5.625       2.5         7.375       3.\n",
      "   4.375      10.          3.375     ]\n",
      " [ 4.44444444  4.88888889  4.55555556  8.33333333  4.         10.\n",
      "   4.88888889  3.          1.44444444]\n",
      " [ 4.5         6.          7.08333333  8.83333333  7.75        9.5\n",
      "   5.33333333  8.          3.83333333]\n",
      " [ 6.2        10.          9.6         8.          8.4         9.8\n",
      "   8.8         2.8         5.4       ]\n",
      " [ 6.          3.          3.6         1.75        2.9         2.2\n",
      "   3.75        2.05        1.3       ]\n",
      " [ 9.          5.          5.11111111  3.38888889  3.05555556  9.66666667\n",
      "   4.66666667  2.16666667  1.22222222]\n",
      " [ 4.5         7.5         7.36363636  7.5         4.81818182  9.31818182\n",
      "   7.40909091  8.04545455  1.54545455]\n",
      " [ 1.248       1.12        1.208       1.144       2.024       1.208\n",
      "   1.448       1.056       1.144     ]\n",
      " [ 7.25        7.25        5.25        8.75        9.          2.\n",
      "   3.75        2.5         1.5       ]\n",
      " [ 8.8         4.13333333  4.13333333  9.33333333  4.          9.93333333\n",
      "   5.73333333  4.2         2.26666667]\n",
      " [ 9.          7.          8.33333333  2.66666667  6.83333333  8.16666667\n",
      "   6.          8.5         8.16666667]\n",
      " [ 1.3559322   1.15254237  1.20338983  1.15254237  1.89830508  1.23728814\n",
      "   3.33898305  1.10169492  1.01694915]\n",
      " [ 7.90909091  9.54545455  9.63636364  9.45454545  7.18181818  9.90909091\n",
      "   7.36363636  9.72727273  8.36363636]\n",
      " [ 9.125       7.875       7.          5.          9.25        8.875\n",
      "   7.75        2.25        1.5       ]\n",
      " [ 7.68421053  8.63157895  8.15789474  6.21052632  5.21052632  3.26315789\n",
      "   7.84210526  8.68421053  1.57894737]\n",
      " [10.          8.         10.         10.          6.          1.\n",
      "   3.          1.         10.        ]\n",
      " [ 4.18181818  2.63636364  3.18181818  2.18181818  4.36363636  2.54545455\n",
      "   3.63636364  7.36363636  1.        ]\n",
      " [ 4.55        3.65        4.15        2.4         5.15        9.2\n",
      "   4.65        3.45        1.5       ]\n",
      " [ 7.6        10.          8.4         9.6         9.4         3.\n",
      "   7.8         8.8         9.        ]\n",
      " [ 5.9         8.6         8.4         4.6         3.6         7.9\n",
      "   6.7         1.8         1.2       ]\n",
      " [ 8.         10.         10.          1.6         9.2         9.2\n",
      "   5.          3.          2.2       ]\n",
      " [ 3.5         3.5         3.          9.          3.75        3.\n",
      "   2.75        3.25        1.        ]\n",
      " [ 4.72972973  1.45945946  1.59459459  2.91891892  2.18918919  1.32432432\n",
      "   1.64864865  1.24324324  1.10810811]\n",
      " [ 9.2         4.6         5.          2.          2.8         3.8\n",
      "   3.          2.2         6.6       ]\n",
      " [ 9.11111111  3.55555556  4.44444444  3.          3.22222222  5.88888889\n",
      "   3.55555556  5.          1.88888889]]\n"
     ]
    }
   ],
   "source": [
    "# Hyperparameters \n",
    "\n",
    "# Vary this as needed \n",
    "init_method = \"k-means++\"\n",
    "# Number of times to run algo with different centroid seeds \n",
    "n_init = 1\n",
    "max_iter = 10 \n",
    "# Runs each of the n_inits in parallel using specified number of threads\n",
    "n_jobs = 1\n",
    "\n",
    "\n",
    "\n",
    "\n",
    "\n",
    "# k means determine k\n",
    "distortions = []\n",
    "K = range(1,31)\n",
    "\n",
    "for k in K:\n",
    "    kmeanModel = KMeans(n_clusters=k).fit(X)\n",
    "    kmeanModel.fit(X)\n",
    "    \n",
    "    clf_kMeans = KMeans(n_clusters=k, random_state=0)\n",
    "    clf_kMeans.fit(X)\n",
    "    distortions.append(sum(np.min(cdist(X, kmeanModel.cluster_centers_, 'euclidean'), axis=1)) / X.shape[0])\n",
    "\n",
    "    \n",
    "# Plot the elbow\n",
    "plt.plot(K, distortions, 'bx-')\n",
    "plt.xlabel('k')\n",
    "plt.ylabel('Distortion')\n",
    "plt.title('The Elbow Method showing varying k on WBCD')\n",
    "plt.xlabel('Number of cluster centers')\n",
    "plt.ylabel('Sum of Squared Error')\n",
    "plt.show()\n",
    "\n",
    "\n",
    "\n",
    "\n",
    "\n",
    "error = mean_squared_error(y, clf_kMeans.predict(X))\n",
    "# test_err = mean_squared_error(y_test,\n",
    "#                                     clf.predict(X_test))\n",
    "\n",
    "print(\"Error: \", error)\n",
    "print(\"Cluster centers: \", clf_kMeans.cluster_centers_)\n",
    "\n",
    "\n",
    "# # Plot results\n",
    "# print 'plotting results'\n",
    "# plt.figure()\n",
    "# title = 'Census Income kNN: Performance'\n",
    "# plt.title('\\n'.join(wrap(title,60)))\n",
    "# plt.plot(ks, test_err, '-', label='test error')\n",
    "# plt.plot(ks, train_err, '-', label='train error')\n",
    "# plt.legend()\n",
    "# plt.xlabel('Num Estimators')\n",
    "# plt.ylabel('Mean Square Error')\n",
    "# plt.savefig('plots/CensusIncome/kNN/zeroes_and_one/censusIncome_kNN.png')\n",
    "# print 'plot complete'\n",
    "# ### ---"
   ]
  },
  {
   "cell_type": "markdown",
   "metadata": {},
   "source": [
    "### Run kMeans Experiments (Vary init_method) "
   ]
  },
  {
   "cell_type": "code",
   "execution_count": 14,
   "metadata": {},
   "outputs": [
    {
     "name": "stdout",
     "output_type": "stream",
     "text": [
      "Running kMeans for k = 1  and init_method: k-means++\n",
      "Running kMeans for k = 2  and init_method: k-means++\n",
      "Running kMeans for k = 3  and init_method: k-means++\n",
      "Running kMeans for k = 4  and init_method: k-means++\n",
      "Running kMeans for k = 5  and init_method: k-means++\n",
      "Running kMeans for k = 6  and init_method: k-means++\n",
      "Running kMeans for k = 7  and init_method: k-means++\n",
      "Running kMeans for k = 8  and init_method: k-means++\n",
      "Running kMeans for k = 9  and init_method: k-means++\n",
      "Running kMeans for k = 10  and init_method: k-means++\n",
      "Running kMeans for k = 11  and init_method: k-means++\n",
      "Running kMeans for k = 12  and init_method: k-means++\n",
      "Running kMeans for k = 13  and init_method: k-means++\n",
      "Running kMeans for k = 14  and init_method: k-means++\n",
      "Running kMeans for k = 15  and init_method: k-means++\n",
      "Running kMeans for k = 16  and init_method: k-means++\n",
      "Running kMeans for k = 17  and init_method: k-means++\n",
      "Running kMeans for k = 18  and init_method: k-means++\n",
      "Running kMeans for k = 19  and init_method: k-means++\n",
      "Running kMeans for k = 20  and init_method: k-means++\n",
      "Running kMeans for k = 21  and init_method: k-means++\n",
      "Running kMeans for k = 22  and init_method: k-means++\n",
      "Running kMeans for k = 23  and init_method: k-means++\n",
      "Running kMeans for k = 24  and init_method: k-means++\n",
      "Running kMeans for k = 25  and init_method: k-means++\n",
      "Running kMeans for k = 26  and init_method: k-means++\n",
      "Running kMeans for k = 27  and init_method: k-means++\n",
      "Running kMeans for k = 28  and init_method: k-means++\n",
      "Running kMeans for k = 29  and init_method: k-means++\n",
      "Running kMeans for k = 30  and init_method: k-means++\n",
      "Running kMeans for k = 1  and init_method: random\n",
      "Running kMeans for k = 2  and init_method: random\n",
      "Running kMeans for k = 3  and init_method: random\n",
      "Running kMeans for k = 4  and init_method: random\n",
      "Running kMeans for k = 5  and init_method: random\n",
      "Running kMeans for k = 6  and init_method: random\n",
      "Running kMeans for k = 7  and init_method: random\n",
      "Running kMeans for k = 8  and init_method: random\n",
      "Running kMeans for k = 9  and init_method: random\n",
      "Running kMeans for k = 10  and init_method: random\n",
      "Running kMeans for k = 11  and init_method: random\n",
      "Running kMeans for k = 12  and init_method: random\n",
      "Running kMeans for k = 13  and init_method: random\n",
      "Running kMeans for k = 14  and init_method: random\n",
      "Running kMeans for k = 15  and init_method: random\n",
      "Running kMeans for k = 16  and init_method: random\n",
      "Running kMeans for k = 17  and init_method: random\n",
      "Running kMeans for k = 18  and init_method: random\n",
      "Running kMeans for k = 19  and init_method: random\n",
      "Running kMeans for k = 20  and init_method: random\n",
      "Running kMeans for k = 21  and init_method: random\n",
      "Running kMeans for k = 22  and init_method: random\n",
      "Running kMeans for k = 23  and init_method: random\n",
      "Running kMeans for k = 24  and init_method: random\n",
      "Running kMeans for k = 25  and init_method: random\n",
      "Running kMeans for k = 26  and init_method: random\n",
      "Running kMeans for k = 27  and init_method: random\n",
      "Running kMeans for k = 28  and init_method: random\n",
      "Running kMeans for k = 29  and init_method: random\n",
      "Running kMeans for k = 30  and init_method: random\n"
     ]
    },
    {
     "data": {
      "image/png": "[encoded data removed]",
      "text/plain": [
       "<Figure size 432x288 with 1 Axes>"
      ]
     },
     "metadata": {
      "needs_background": "light"
     },
     "output_type": "display_data"
    }
   ],
   "source": [
    "# Hyperparameters \n",
    "\n",
    "init_methods = [\"k-means++\", \"random\"]\n",
    "# Number of times to run algo with different centroid seeds \n",
    "n_init = 1\n",
    "max_iter = 10 \n",
    "# Runs each of the n_inits in parallel using specified number of threads\n",
    "n_jobs = 1\n",
    "\n",
    "\n",
    "distortions_random = []\n",
    "distortions_kplus = []\n",
    "\n",
    "K = range(1,31)\n",
    "\n",
    "for init_method in init_methods: \n",
    "    for k in K:\n",
    "        print(\"Running kMeans for k =\", k, \" and init_method:\", init_method)\n",
    "        kmeanModel = KMeans(n_clusters=k).fit(X)\n",
    "        kmeanModel.fit(X)\n",
    "\n",
    "    #     clf_kMeans = KMeans(n_clusters=k, random_state=0)\n",
    "        clf_kMeans = KMeans(n_clusters=k, init=init_method)\n",
    "        clf_kMeans.fit(X)\n",
    "        distortion = sum(np.min(cdist(X, kmeanModel.cluster_centers_, 'euclidean'), axis=1)) / X.shape[0]\n",
    "        \n",
    "        if init_method == \"random\": \n",
    "            distortions_random.append(distortion)\n",
    "        \n",
    "        elif init_method == \"k-means++\": \n",
    "            distortions_kplus.append(distortion)\n",
    "            \n",
    "\n",
    "    \n",
    "# Plot the elbow\n",
    "\n",
    "plt.plot(K, distortions_random, '-', label='init_method: random')\n",
    "plt.plot(K, distortions_kplus, '-', label='init_method: k-means++')\n",
    "plt.xlabel('k')\n",
    "plt.ylabel('Distortion')\n",
    "plt.title('The Elbow Method showing varying k on WBCD')\n",
    "plt.xlabel('Number of cluster centers')\n",
    "plt.ylabel('Sum of Squared Error')\n",
    "plt.legend()\n",
    "plt.show()\n",
    "\n",
    "\n",
    "# # Plot results\n",
    "# print 'plotting results'\n",
    "# plt.figure()\n",
    "# title = 'Census Income kNN: Performance'\n",
    "# plt.title('\\n'.join(wrap(title,60)))\n",
    "# plt.plot(ks, test_err, '-', label='test error')\n",
    "# plt.plot(ks, train_err, '-', label='train error')\n",
    "# plt.legend()\n",
    "# plt.xlabel('Num Estimators')\n",
    "# plt.ylabel('Mean Square Error')\n",
    "# plt.savefig('plots/CensusIncome/kNN/zeroes_and_one/censusIncome_kNN.png')\n",
    "# print 'plot complete'\n",
    "# ### ---"
   ]
  },
  {
   "cell_type": "markdown",
   "metadata": {},
   "source": [
    "### Run kMeans Experiments (Vary init_method, keep k constant) "
   ]
  },
  {
   "cell_type": "code",
   "execution_count": 15,
   "metadata": {},
   "outputs": [
    {
     "name": "stdout",
     "output_type": "stream",
     "text": [
      "Running kMeans for max_iter = 100  and init_method: k-means++\n",
      "Running kMeans for max_iter = 120  and init_method: k-means++\n",
      "Running kMeans for max_iter = 140  and init_method: k-means++\n",
      "Running kMeans for max_iter = 160  and init_method: k-means++\n",
      "Running kMeans for max_iter = 180  and init_method: k-means++\n",
      "Running kMeans for max_iter = 200  and init_method: k-means++\n",
      "Running kMeans for max_iter = 220  and init_method: k-means++\n",
      "Running kMeans for max_iter = 240  and init_method: k-means++\n",
      "Running kMeans for max_iter = 260  and init_method: k-means++\n",
      "Running kMeans for max_iter = 280  and init_method: k-means++\n",
      "Running kMeans for max_iter = 300  and init_method: k-means++\n",
      "Running kMeans for max_iter = 320  and init_method: k-means++\n",
      "Running kMeans for max_iter = 340  and init_method: k-means++\n",
      "Running kMeans for max_iter = 360  and init_method: k-means++\n",
      "Running kMeans for max_iter = 380  and init_method: k-means++\n",
      "Running kMeans for max_iter = 400  and init_method: k-means++\n",
      "Running kMeans for max_iter = 100  and init_method: random\n",
      "Running kMeans for max_iter = 120  and init_method: random\n",
      "Running kMeans for max_iter = 140  and init_method: random\n",
      "Running kMeans for max_iter = 160  and init_method: random\n",
      "Running kMeans for max_iter = 180  and init_method: random\n",
      "Running kMeans for max_iter = 200  and init_method: random\n",
      "Running kMeans for max_iter = 220  and init_method: random\n",
      "Running kMeans for max_iter = 240  and init_method: random\n",
      "Running kMeans for max_iter = 260  and init_method: random\n",
      "Running kMeans for max_iter = 280  and init_method: random\n",
      "Running kMeans for max_iter = 300  and init_method: random\n",
      "Running kMeans for max_iter = 320  and init_method: random\n",
      "Running kMeans for max_iter = 340  and init_method: random\n",
      "Running kMeans for max_iter = 360  and init_method: random\n",
      "Running kMeans for max_iter = 380  and init_method: random\n",
      "Running kMeans for max_iter = 400  and init_method: random\n"
     ]
    },
    {
     "data": {
      "image/png": "[encoded data removed]",
      "text/plain": [
       "<Figure size 432x288 with 1 Axes>"
      ]
     },
     "metadata": {
      "needs_background": "light"
     },
     "output_type": "display_data"
    }
   ],
   "source": [
    "# Hyperparameters \n",
    "\n",
    "init_methods = [\"k-means++\", \"random\"]\n",
    "# Number of times to run algo with different centroid seeds \n",
    "n_init = 1\n",
    "max_iter = 10 \n",
    "# Runs each of the n_inits in parallel using specified number of threads\n",
    "n_jobs = 1\n",
    "\n",
    "\n",
    "distortions_random = []\n",
    "distortions_kplus = []\n",
    "\n",
    "# Fix k \n",
    "k = 12 \n",
    "\n",
    "# Select range of max_iterations\n",
    "max_iterations = range(100, 420, 20)\n",
    "\n",
    "\n",
    "for init_method in init_methods: `\n",
    "    for max_iter in max_iterations: \n",
    "        print(\"Running kMeans for max_iter =\", max_iter, \" and init_method:\", init_method)\n",
    "        kmeanModel = KMeans(n_clusters=k, init = init_method, max_iter=max_iter).fit(X)\n",
    "        kmeanModel.fit(X)\n",
    "\n",
    "    #     clf_kMeans = KMeans(n_clusters=k, random_state=0)\n",
    "        clf_kMeans = KMeans(n_clusters=k)\n",
    "        clf_kMeans.fit(X)\n",
    "        distortion = sum(np.min(cdist(X, kmeanModel.cluster_centers_, 'euclidean'), axis=1)) / X.shape[0]\n",
    "\n",
    "        if init_method == \"random\": \n",
    "            distortions_random.append(distortion)\n",
    "\n",
    "        elif init_method == \"k-means++\": \n",
    "            distortions_kplus.append(distortion)\n",
    "\n",
    "\n",
    "    \n",
    "# Plot the elbow\n",
    "\n",
    "plt.plot(max_iterations, distortions_random, '-', label='init_method: random')\n",
    "plt.plot(max_iterations, distortions_kplus, '-', label='init_method: k-means++')\n",
    "plt.xlabel('k')\n",
    "plt.ylabel('Distortion')\n",
    "plt.title('Comparing init_method options')\n",
    "plt.xlabel('Max iterations for a single run')\n",
    "plt.ylabel('Sum of Squared Error')\n",
    "plt.legend()\n",
    "plt.show()\n",
    "\n",
    "\n",
    "# # Plot results\n",
    "# print 'plotting results'\n",
    "# plt.figure()\n",
    "# title = 'Census Income kNN: Performance'\n",
    "# plt.title('\\n'.join(wrap(title,60)))\n",
    "# plt.plot(ks, test_err, '-', label='test error')\n",
    "# plt.plot(ks, train_err, '-', label='train error')\n",
    "# plt.legend()\n",
    "# plt.xlabel('Num Estimators')\n",
    "# plt.ylabel('Mean Square Error')\n",
    "# plt.savefig('plots/CensusIncome/kNN/zeroes_and_one/censusIncome_kNN.png')\n",
    "# print 'plot complete'\n",
    "# ### ---"
   ]
  },
  {
   "cell_type": "markdown",
   "metadata": {},
   "source": [
    "### Compare Numerical values from graph obtained above"
   ]
  },
  {
   "cell_type": "code",
   "execution_count": 18,
   "metadata": {},
   "outputs": [
    {
     "name": "stdout",
     "output_type": "stream",
     "text": [
      "Min error for random:  3.038390195307197\n",
      "Average error for random:  3.107313875324227\n",
      "Min error for k-means++:  3.044340413449968\n",
      "Average error for k-means++:  3.1024186001166267\n"
     ]
    }
   ],
   "source": [
    "print(\"Min error for random: \", min(distortions_random))\n",
    "print(\"Average error for random: \", np.mean(distortions_random))\n",
    "\n",
    "print(\"Min error for k-means++: \", min(distortions_kplus))\n",
    "print(\"Average error for k-means++: \", np.mean(distortions_kplus))\n"
   ]
  },
  {
   "cell_type": "markdown",
   "metadata": {},
   "source": [
    "### Run Expectation Maximization Experiments "
   ]
  },
  {
   "cell_type": "code",
   "execution_count": null,
   "metadata": {},
   "outputs": [],
   "source": [
    "# Hyperparameters \n",
    "\n",
    "init_method = \"k-means++\"\n",
    "# Number of times to run algo with different centroid seeds \n",
    "n_init = 1\n",
    "max_iter = 10 \n",
    "# Runs each of the n_inits in parallel using specified number of threads\n",
    "n_jobs = 1\n",
    "\n",
    "covariance_types = ['full','tied','diag','spherical']\n",
    "\n",
    "for cov in covariance_types: \n",
    "\n",
    "    clf_EM = GaussianMixture(n_components=2,covariance_type=cov)\n",
    "    clf_EM.fit(X_train)\n",
    "\n",
    "    error_EM = mean_squared_error(y, clf_EM.predict(X))\n",
    "    \n",
    "    print(\"Printing first 5 predictions:\", clf_EM.predict(X)[:5] )\n",
    "    print(\"Printing first 5 actual values: \", y[:5])\n",
    "\n",
    "    print(\"Error: \", error_EM)\n",
    "\n",
    "#     print(\"Cluster centers: \", clf_EM.cluster_centers_)\n",
    "\n"
   ]
  },
  {
   "cell_type": "code",
   "execution_count": null,
   "metadata": {},
   "outputs": [],
   "source": []
  }
 ],
 "metadata": {
  "kernelspec": {
   "display_name": "Python 3",
   "language": "python",
   "name": "python3"
  },
  "language_info": {
   "codemirror_mode": {
    "name": "ipython",
    "version": 3
   },
   "file_extension": ".py",
   "mimetype": "text/x-python",
   "name": "python",
   "nbconvert_exporter": "python",
   "pygments_lexer": "ipython3",
   "version": "3.5.2"
  }
 },
 "nbformat": 4,
 "nbformat_minor": 2
}
