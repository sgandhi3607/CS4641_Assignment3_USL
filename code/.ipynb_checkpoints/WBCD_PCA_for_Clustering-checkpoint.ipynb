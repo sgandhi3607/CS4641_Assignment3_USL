{
 "cells": [
  {
   "cell_type": "markdown",
   "metadata": {},
   "source": [
    "### Import Libraries"
   ]
  },
  {
   "cell_type": "code",
   "execution_count": 19,
   "metadata": {},
   "outputs": [],
   "source": [
    "import numpy as np\n",
    "import pandas as pd\n",
    "import time \n",
    "\n",
    "import matplotlib.pyplot as plt\n",
    "\n",
    "# from sklearn.cross_validation import cross_val_score\n",
    "from sklearn.metrics import mean_squared_error\n",
    "from sklearn.mixture import GaussianMixture\n",
    "from sklearn.model_selection import KFold\n",
    "from sklearn.model_selection import train_test_split\n",
    "from sklearn.neural_network import MLPClassifier\n",
    "from sklearn.preprocessing import StandardScaler\n",
    "from sklearn.utils import shuffle\n",
    "\n",
    "from sklearn.cluster import KMeans\n",
    "from sklearn.decomposition import FastICA\n",
    "from sklearn.decomposition import PCA\n",
    "from scipy.stats import kurtosis\n",
    "\n",
    "from scipy.spatial.distance import cdist\n",
    "\n",
    "from textwrap import wrap"
   ]
  },
  {
   "cell_type": "markdown",
   "metadata": {},
   "source": [
    "### Load Dataset"
   ]
  },
  {
   "cell_type": "code",
   "execution_count": 3,
   "metadata": {},
   "outputs": [],
   "source": [
    "RANDOM_SEED = 25\n",
    "\n",
    "\n",
    "columns = ['Radius','Texture','Perimeter','Area','Smoothness','Compactness',\n",
    "           'Concavity','Concave_Points','Symmetry','Fractal_Dimension',\n",
    "           'Malignant/Benign']\n",
    "\n",
    "# Read CSV file into pandas df\n",
    "df = pd.read_csv('../datasets/breast_cancer/breast-cancer-wisconsin.csv',\n",
    "                 delimiter=',', quotechar='\"', names=columns)"
   ]
  },
  {
   "cell_type": "markdown",
   "metadata": {},
   "source": [
    "### Dataframe without Preprocessing "
   ]
  },
  {
   "cell_type": "code",
   "execution_count": 4,
   "metadata": {},
   "outputs": [
    {
     "name": "stdout",
     "output_type": "stream",
     "text": [
      "Printing dataframe head (without any preprocessing)....\n",
      "    Radius  Texture  Perimeter  Area  Smoothness  Compactness Concavity  \\\n",
      "0  1000025        5          1     1           1            2         1   \n",
      "1  1002945        5          4     4           5            7        10   \n",
      "2  1015425        3          1     1           1            2         2   \n",
      "3  1016277        6          8     8           1            3         4   \n",
      "4  1017023        4          1     1           3            2         1   \n",
      "5  1017122        8         10    10           8            7        10   \n",
      "6  1018099        1          1     1           1            2        10   \n",
      "7  1018561        2          1     2           1            2         1   \n",
      "8  1033078        2          1     1           1            2         1   \n",
      "9  1033078        4          2     1           1            2         1   \n",
      "\n",
      "   Concave_Points  Symmetry  Fractal_Dimension  Malignant/Benign  \n",
      "0               3         1                  1                 2  \n",
      "1               3         2                  1                 2  \n",
      "2               3         1                  1                 2  \n",
      "3               3         7                  1                 2  \n",
      "4               3         1                  1                 2  \n",
      "5               9         7                  1                 4  \n",
      "6               3         1                  1                 2  \n",
      "7               3         1                  1                 2  \n",
      "8               1         1                  5                 2  \n",
      "9               2         1                  1                 2  \n"
     ]
    }
   ],
   "source": [
    "print(\"Printing dataframe head (without any preprocessing)....\")\n",
    "print(df.head(10))"
   ]
  },
  {
   "cell_type": "markdown",
   "metadata": {},
   "source": [
    "### Dataset Preprocessing "
   ]
  },
  {
   "cell_type": "code",
   "execution_count": 5,
   "metadata": {},
   "outputs": [
    {
     "name": "stderr",
     "output_type": "stream",
     "text": [
      "/home/saksham/.local/lib/python3.5/site-packages/ipykernel_launcher.py:19: DeprecationWarning: \n",
      ".ix is deprecated. Please use\n",
      ".loc for label based indexing or\n",
      ".iloc for positional indexing\n",
      "\n",
      "See the documentation here:\n",
      "http://pandas.pydata.org/pandas-docs/stable/indexing.html#ix-indexer-is-deprecated\n"
     ]
    }
   ],
   "source": [
    "# Shuffle\n",
    "df = shuffle(df, random_state=RANDOM_SEED)\n",
    "\n",
    "# DROP USELESS ROWS AND COLUMNS\n",
    "df.dropna(inplace=True)\n",
    "cols = [0]\n",
    "# Drop ID column (it's not attribute or target)\n",
    "df.drop(df.columns[cols],axis=1,inplace=True)\n",
    "# Drop all data points with missing variables  (denoted by '?' entry)\n",
    "nostrings_row_list = [x.isdigit() for x in df.iloc[:,5]]\n",
    "df = df[nostrings_row_list]\n",
    "\n",
    "\n",
    "# Handle categorical data\n",
    "# df = pd.get_dummies(df)\n",
    "\n",
    "\n",
    "# Split data into X and y vectors\n",
    "X = df.ix[:, df.columns != 'Malignant/Benign']\n",
    "y = df['Malignant/Benign']\n",
    "\n",
    "# Change 2 -> 0 (benign) and 4 -> 1 (malignant)\n",
    "y.replace(2, 0, inplace=True)\n",
    "y.replace(4, 1, inplace=True)"
   ]
  },
  {
   "cell_type": "markdown",
   "metadata": {},
   "source": [
    "### Sanity Check on Dataframe \n"
   ]
  },
  {
   "cell_type": "code",
   "execution_count": 6,
   "metadata": {},
   "outputs": [
    {
     "name": "stdout",
     "output_type": "stream",
     "text": [
      "Sanity Check: Printing out dataframe and shape after preprocessing... \n",
      "     Texture  Perimeter  Area  Smoothness  Compactness Concavity  \\\n",
      "437        4          1     1           1            2         1   \n",
      "511        5          1     1           1            2         1   \n",
      "215        8          7     8           7            5         5   \n",
      "684        1          1     1           1            2         1   \n",
      "302       10         10    10           7            9        10   \n",
      "341        1          1     1           1            2         1   \n",
      "608        5         10    10          10           10        10   \n",
      "366        6         10    10          10            8        10   \n",
      "205        5         10    10           9            6        10   \n",
      "270        8          4     7           1            3        10   \n",
      "\n",
      "     Concave_Points  Symmetry  Fractal_Dimension  Malignant/Benign  \n",
      "437               1         1                  1                 0  \n",
      "511               2         1                  1                 0  \n",
      "215               5        10                  2                 1  \n",
      "684               1         1                  1                 0  \n",
      "302               7        10                 10                 1  \n",
      "341               3         1                  1                 0  \n",
      "608              10         1                  1                 1  \n",
      "366               7        10                  7                 1  \n",
      "205               7        10                  5                 1  \n",
      "270               3         9                  2                 1  \n",
      "df.shape:  (683, 10)\n"
     ]
    }
   ],
   "source": [
    "print(\"Sanity Check: Printing out dataframe and shape after preprocessing... \")\n",
    "print(df.head(10))\n",
    "print(\"df.shape: \", df.shape)\n"
   ]
  },
  {
   "cell_type": "markdown",
   "metadata": {},
   "source": [
    "### Training and Testing Split, Scaling "
   ]
  },
  {
   "cell_type": "code",
   "execution_count": 7,
   "metadata": {},
   "outputs": [],
   "source": [
    "# # Split into 30%  training data, 70% testing data\n",
    "# X_train, X_test, y_train, y_test = train_test_split(X, y,\n",
    "#                                                     test_size=0.30, random_state=RANDOM_SEED)\n",
    "\n",
    "\n",
    "# # Apply scaling. Large values of certain features undesireable for NN\n",
    "# scaler = StandardScaler()\n",
    "# scaler.fit(X_train)\n",
    "# X_train = scaler.transform(X_train)\n",
    "# X_test = scaler.transform(X_test)"
   ]
  },
  {
   "cell_type": "markdown",
   "metadata": {},
   "source": [
    "### Sanity Check on X"
   ]
  },
  {
   "cell_type": "code",
   "execution_count": 8,
   "metadata": {},
   "outputs": [
    {
     "name": "stdout",
     "output_type": "stream",
     "text": [
      "     Texture  Perimeter  Area  Smoothness  Compactness Concavity  \\\n",
      "437        4          1     1           1            2         1   \n",
      "511        5          1     1           1            2         1   \n",
      "215        8          7     8           7            5         5   \n",
      "684        1          1     1           1            2         1   \n",
      "302       10         10    10           7            9        10   \n",
      "341        1          1     1           1            2         1   \n",
      "608        5         10    10          10           10        10   \n",
      "366        6         10    10          10            8        10   \n",
      "205        5         10    10           9            6        10   \n",
      "270        8          4     7           1            3        10   \n",
      "586        8         10    10          10            6        10   \n",
      "264        7          9     4          10           10         3   \n",
      "554        3          1     1           1            2         1   \n",
      "509        2          1     1           1            2         1   \n",
      "360        6         10    10          10           10        10   \n",
      "527        4          1     1           1            2         1   \n",
      "676        1          1     2           1            2         1   \n",
      "367        5          8     8          10            5        10   \n",
      "519        4          7     8           3            4        10   \n",
      "370        4          3     2           1            3         1   \n",
      "1          5          4     4           5            7        10   \n",
      "484        5          1     2           1            2         1   \n",
      "528        6          1     3           2            2         1   \n",
      "71         6         10     2           8           10         2   \n",
      "353        2          7    10          10            7        10   \n",
      "77         5          3     1           2            2         1   \n",
      "344        7          6     4           8           10        10   \n",
      "466       10          6     6           2            4        10   \n",
      "118        1          1     1           1            4         3   \n",
      "262        8          8     9           4            5        10   \n",
      "..       ...        ...   ...         ...          ...       ...   \n",
      "303        1          1     1           1            2         1   \n",
      "650        3          1     1           2            3         4   \n",
      "160       10          7     7           4            5        10   \n",
      "649        3          1     1           1            2         1   \n",
      "548        3          1     1           1            1         1   \n",
      "562        1          1     1           1            2         1   \n",
      "109        6          5     4           4            3         9   \n",
      "492        4          1     1           1            1         1   \n",
      "656        5          1     1           1            2         1   \n",
      "201       10          8     8           4           10        10   \n",
      "559        5          1     1           1            2         1   \n",
      "304        8          3     4           9            3        10   \n",
      "406        4          2     2           1            2         1   \n",
      "131        2          1     1           1            2         1   \n",
      "259        5          7     7           1            5         8   \n",
      "88         4          1     1           1            2         1   \n",
      "167       10          8    10          10            6         1   \n",
      "641        3          1     1           1            2         1   \n",
      "453        4          5     5           8            6        10   \n",
      "500        6          1     1           1            2         1   \n",
      "253        6         10    10           2            8        10   \n",
      "156        1          2     2           1            2         1   \n",
      "136        4          1     1           1            2         1   \n",
      "151        7          2     4           1            6        10   \n",
      "255        5          6     6           2            4        10   \n",
      "317        6          8     7           8            6         8   \n",
      "143        1          1     1           1            2         5   \n",
      "474        5          1     1           1            2         1   \n",
      "318        1          1     1           1            5         1   \n",
      "132        5         10     8          10            8        10   \n",
      "\n",
      "     Concave_Points  Symmetry  Fractal_Dimension  \n",
      "437               1         1                  1  \n",
      "511               2         1                  1  \n",
      "215               5        10                  2  \n",
      "684               1         1                  1  \n",
      "302               7        10                 10  \n",
      "341               3         1                  1  \n",
      "608              10         1                  1  \n",
      "366               7        10                  7  \n",
      "205               7        10                  5  \n",
      "270               3         9                  2  \n",
      "586              10        10                  1  \n",
      "264               5         3                  3  \n",
      "554               1         1                  1  \n",
      "509               1         1                  1  \n",
      "360               8        10                 10  \n",
      "527               3         1                  1  \n",
      "676               2         1                  1  \n",
      "367               8        10                  3  \n",
      "519               9         1                  1  \n",
      "370               2         1                  1  \n",
      "1                 3         2                  1  \n",
      "484               1         1                  1  \n",
      "528               1         1                  1  \n",
      "71                7         8                 10  \n",
      "353               4         9                  4  \n",
      "77                2         1                  1  \n",
      "344               9         5                  3  \n",
      "466               9         7                  1  \n",
      "118               1         1                  1  \n",
      "262               7         8                  1  \n",
      "..              ...       ...                ...  \n",
      "303               3         1                  1  \n",
      "650               1         1                  1  \n",
      "160               5         7                  2  \n",
      "649               2         1                  1  \n",
      "548               1         1                  1  \n",
      "562               3         1                  1  \n",
      "109               7         8                  3  \n",
      "492               2         1                  1  \n",
      "656               2         1                  1  \n",
      "201               8         1                  1  \n",
      "559               2         1                  1  \n",
      "304               3         3                  1  \n",
      "406               2         1                  1  \n",
      "131               3         1                  1  \n",
      "259               3         4                  1  \n",
      "88                3         1                  1  \n",
      "167               3         1                 10  \n",
      "641               2         1                  1  \n",
      "453              10         7                  1  \n",
      "500               3         1                  1  \n",
      "253               7         3                  3  \n",
      "156               2         1                  1  \n",
      "136               2         1                  1  \n",
      "151               5         4                  3  \n",
      "255               3         6                  1  \n",
      "317               8         9                  1  \n",
      "143               1         1                  1  \n",
      "474               1         1                  1  \n",
      "318               3         1                  1  \n",
      "132               3         6                  3  \n",
      "\n",
      "[683 rows x 9 columns]\n"
     ]
    }
   ],
   "source": [
    "print(X)"
   ]
  },
  {
   "cell_type": "markdown",
   "metadata": {},
   "source": [
    "### PCA - (Followed by Clustering Later)"
   ]
  },
  {
   "cell_type": "code",
   "execution_count": 30,
   "metadata": {},
   "outputs": [
    {
     "name": "stdout",
     "output_type": "stream",
     "text": [
      "[0.69050756 0.07195066 0.06055921 0.04442012 0.03900513 0.03443899\n",
      " 0.02529478 0.02246508 0.01135845]\n",
      "Printing error_dimReduced ...  0.03953147877013177\n"
     ]
    }
   ],
   "source": [
    "# Specify number of eignevectors to use for PCA \n",
    "n_comp_list = range(1, 10)\n",
    "n_comp = 9\n",
    "pca = PCA(n_components=n_comp)\n",
    "X_dim_reduced = pca.fit(X).transform(X)\n",
    "print(pca.explained_variance_ratio_)\n",
    "\n",
    "# print(\"Printing X_dim_reduced...\")\n",
    "# print(X_dim_reduced)\n",
    "\n",
    "\n",
    "clf_dimReduced = KMeans(n_clusters=2, random_state=0)\n",
    "clf_dimReduced.fit(X_dim_reduced)\n",
    "error_dimReduced = mean_squared_error(y, clf_dimReduced.predict(X_dim_reduced))\n",
    "print(\"Printing error_dimReduced ... \", error_dimReduced)\n"
   ]
  },
  {
   "cell_type": "markdown",
   "metadata": {},
   "source": [
    "### Plot the PCA variance with change no. of components"
   ]
  },
  {
   "cell_type": "code",
   "execution_count": 15,
   "metadata": {},
   "outputs": [
    {
     "name": "stderr",
     "output_type": "stream",
     "text": [
      "No handles with labels found to put in legend.\n"
     ]
    },
    {
     "data": {
      "image/png": "[encoded data removed]",
      "text/plain": [
       "<Figure size 432x288 with 1 Axes>"
      ]
     },
     "metadata": {
      "needs_background": "light"
     },
     "output_type": "display_data"
    }
   ],
   "source": [
    "plt.plot(n_comp_list, pca.explained_variance_ratio_, '-')\n",
    "plt.title('WBCD | PCA: Increase in variance (by adding last principal component)')\n",
    "plt.xlabel('Number of principal components')\n",
    "plt.ylabel('Variance')\n",
    "plt.legend()\n",
    "plt.savefig('WBCD_PCA.png')\n",
    "plt.show()"
   ]
  },
  {
   "cell_type": "markdown",
   "metadata": {},
   "source": [
    "### Clustering after PCA"
   ]
  },
  {
   "cell_type": "code",
   "execution_count": 23,
   "metadata": {},
   "outputs": [
    {
     "name": "stdout",
     "output_type": "stream",
     "text": [
      "clustering after pca for k-value:  1\n",
      "clustering after pca for k-value:  2\n",
      "clustering after pca for k-value:  3\n",
      "clustering after pca for k-value:  4\n",
      "clustering after pca for k-value:  5\n",
      "clustering after pca for k-value:  6\n",
      "clustering after pca for k-value:  7\n",
      "clustering after pca for k-value:  8\n",
      "clustering after pca for k-value:  9\n",
      "clustering after pca for k-value:  10\n",
      "clustering after pca for k-value:  11\n",
      "clustering after pca for k-value:  12\n",
      "clustering after pca for k-value:  13\n",
      "clustering after pca for k-value:  14\n",
      "clustering after pca for k-value:  15\n",
      "clustering after pca for k-value:  16\n",
      "clustering after pca for k-value:  17\n",
      "clustering after pca for k-value:  18\n",
      "clustering after pca for k-value:  19\n",
      "clustering after pca for k-value:  20\n",
      "clustering after pca for k-value:  21\n",
      "clustering after pca for k-value:  22\n",
      "clustering after pca for k-value:  23\n",
      "clustering after pca for k-value:  24\n",
      "clustering after pca for k-value:  25\n",
      "clustering after pca for k-value:  26\n",
      "clustering after pca for k-value:  27\n",
      "clustering after pca for k-value:  28\n",
      "clustering after pca for k-value:  29\n",
      "clustering after pca for k-value:  30\n"
     ]
    },
    {
     "data": {
      "image/png": "[encoded data removed]",
      "text/plain": [
       "<Figure size 432x288 with 1 Axes>"
      ]
     },
     "metadata": {
      "needs_background": "light"
     },
     "output_type": "display_data"
    }
   ],
   "source": [
    "# clf_dimReduced = KMeans(n_clusters=2, random_state=0)\n",
    "# clf_dimReduced.fit(X_dim_reduced)\n",
    "# error_dimReduced = mean_squared_error(y, clf_dimReduced.predict(X_dim_reduced))\n",
    "# print(\"Printing error_dimReduced ... \", error_dimReduced)\n",
    "\n",
    "\n",
    "# Hyperparameters \n",
    "\n",
    "# Vary this as needed \n",
    "init_method = \"k-means++\"\n",
    "# Number of times to run algo with different centroid seeds \n",
    "n_init = 1\n",
    "max_iter = 10 \n",
    "# Runs each of the n_inits in parallel using specified number of threads\n",
    "n_jobs = 1\n",
    "\n",
    "\n",
    "# k means determine k\n",
    "distortions = []\n",
    "K = range(1,31)\n",
    "\n",
    "for k in K:\n",
    "    print(\"clustering after pca for k-value: \", k)\n",
    "    kmeanModel = KMeans(n_clusters=k).fit(X_dim_reduced)\n",
    "    kmeanModel.fit(X_dim_reduced)\n",
    "    \n",
    "    clf_kMeans = KMeans(n_clusters=k, random_state=0)\n",
    "    clf_kMeans.fit(X)\n",
    "    distortions.append(sum(np.min(cdist(X_dim_reduced, kmeanModel.cluster_centers_, 'euclidean'), axis=1)) / X.shape[0])\n",
    "\n",
    "    \n",
    "# Plot the elbow\n",
    "plt.plot(K, distortions, 'bx-')\n",
    "plt.xlabel('k')\n",
    "plt.ylabel('Distortion')\n",
    "plt.title('The Elbow Method showing varying k on WBCD (after PCA)')\n",
    "plt.xlabel('Number of cluster centers')\n",
    "plt.ylabel('Sum of Squared Error')\n",
    "plt.show()"
   ]
  },
  {
   "cell_type": "markdown",
   "metadata": {},
   "source": [
    "### Compare clustering with k = 2 (Dim reduced k-means, vs just k-means)"
   ]
  },
  {
   "cell_type": "code",
   "execution_count": 37,
   "metadata": {},
   "outputs": [
    {
     "name": "stdout",
     "output_type": "stream",
     "text": [
      "[0.69050756]\n",
      "Printing error without PCA ...  0.03953147877013177\n",
      "Printing error_dimReduced ...  0.03806734992679356\n",
      "[0.69050756 0.07195066]\n",
      "Printing error without PCA ...  0.03953147877013177\n",
      "Printing error_dimReduced ...  0.03953147877013177\n",
      "[0.69050756 0.07195066 0.06055921]\n",
      "Printing error without PCA ...  0.03953147877013177\n",
      "Printing error_dimReduced ...  0.03953147877013177\n",
      "[0.69050756 0.07195066 0.06055921 0.04442012]\n",
      "Printing error without PCA ...  0.03953147877013177\n",
      "Printing error_dimReduced ...  0.03806734992679356\n",
      "[0.69050756 0.07195066 0.06055921 0.04442012 0.03900513]\n",
      "Printing error without PCA ...  0.03953147877013177\n",
      "Printing error_dimReduced ...  0.03953147877013177\n",
      "[0.69050756 0.07195066 0.06055921 0.04442012 0.03900513 0.03443899]\n",
      "Printing error without PCA ...  0.03953147877013177\n",
      "Printing error_dimReduced ...  0.03953147877013177\n",
      "[0.69050756 0.07195066 0.06055921 0.04442012 0.03900513 0.03443899\n",
      " 0.02529478]\n",
      "Printing error without PCA ...  0.03953147877013177\n",
      "Printing error_dimReduced ...  0.9619326500732065\n",
      "[0.69050756 0.07195066 0.06055921 0.04442012 0.03900513 0.03443899\n",
      " 0.02529478 0.02246508]\n",
      "Printing error without PCA ...  0.03953147877013177\n",
      "Printing error_dimReduced ...  0.03953147877013177\n",
      "[0.69050756 0.07195066 0.06055921 0.04442012 0.03900513 0.03443899\n",
      " 0.02529478 0.02246508 0.01135845]\n",
      "Printing error without PCA ...  0.03953147877013177\n",
      "Printing error_dimReduced ...  0.03953147877013177\n"
     ]
    }
   ],
   "source": [
    "# Specify number of eignevectors to use for PCA \n",
    "# n_comp_list = range(1, 10)\n",
    "\n",
    "errorlist = []\n",
    "errorlist_dimReduced = []\n",
    "\n",
    "for n_comp in range(1,10): \n",
    "    pca = PCA(n_components=n_comp)\n",
    "    X_dim_reduced = pca.fit(X).transform(X)\n",
    "    print(pca.explained_variance_ratio_)\n",
    "\n",
    "    # Without PCA\n",
    "    clf_dimReduced = KMeans(n_clusters=2, random_state=0)\n",
    "    clf_dimReduced.fit(X)\n",
    "    error = mean_squared_error(y, clf_dimReduced.predict(X))\n",
    "    errorlist.append(error)\n",
    "    print(\"Printing error without PCA ... \", error)\n",
    "    \n",
    "    # After PCA\n",
    "    clf_dimReduced = KMeans(n_clusters=2, random_state=0)\n",
    "    clf_dimReduced.fit(X_dim_reduced)\n",
    "    error_dimReduced = mean_squared_error(y, clf_dimReduced.predict(X_dim_reduced))\n",
    "    errorlist_dimReduced.append(error_dimReduced)\n",
    "    print(\"Printing error_dimReduced ... \", error_dimReduced)"
   ]
  },
  {
   "cell_type": "code",
   "execution_count": 39,
   "metadata": {},
   "outputs": [
    {
     "name": "stdout",
     "output_type": "stream",
     "text": [
      "0.03953147877013177\n",
      "0.03806734992679356\n"
     ]
    }
   ],
   "source": [
    "print(min(errorlist))\n",
    "print(min(errorlist_dimReduced))"
   ]
  },
  {
   "cell_type": "code",
   "execution_count": 28,
   "metadata": {},
   "outputs": [
    {
     "name": "stdout",
     "output_type": "stream",
     "text": [
      "(683, 1)\n"
     ]
    }
   ],
   "source": [
    "print(X_dim_reduced.shape)"
   ]
  },
  {
   "cell_type": "markdown",
   "metadata": {},
   "source": [
    "### ICA After Clustering (when k = 2) "
   ]
  },
  {
   "cell_type": "code",
   "execution_count": 16,
   "metadata": {},
   "outputs": [
    {
     "name": "stdout",
     "output_type": "stream",
     "text": [
      "[0.69050756]\n",
      "Printing error_dimReduced ...  0.03806734992679356\n"
     ]
    }
   ],
   "source": [
    "# Specify number of eignevectors to use for PCA \n",
    "# n_comp_list = range(1, 10)\n",
    "\n",
    "errorlist = []\n",
    "errorlist_dimReduced = []\n",
    "\n",
    "for n_comp in range(1,10): \n",
    "    pca = PCA(n_components=n_comp)\n",
    "    X_dim_reduced = pca.fit(X).transform(X)\n",
    "    print(pca.explained_variance_ratio_)\n",
    "\n",
    "    # Without PCA\n",
    "\n",
    "    ica = FastICA(n_components=n_comp,whiten=True,algorithm=\"parallel\")\n",
    "    # kur0 = sum(kurtosis(X))\n",
    "    ica = ica.fit(X)\n",
    "    error = mean_squared_error(y, ica.predict(X))\n",
    "    print(\"error when n_comp = \", n_comp, \" :  \", error)\n",
    "\n",
    "#     clf_dimReduced = KMeans(n_clusters=2, random_state=0)\n",
    "#     clf_dimReduced.fit(X)\n",
    "#     error = mean_squared_error(y, clf_dimReduced.predict(X))\n",
    "#     errorlist.append(error)\n",
    "#     print(\"Printing error without PCA ... \", error)\n",
    "\n",
    "#     # After PCA\n",
    "#     clf_dimReduced = KMeans(n_clusters=2, random_state=0)\n",
    "#     clf_dimReduced.fit(X_dim_reduced)\n",
    "#     error_dimReduced = mean_squared_error(y, clf_dimReduced.predict(X_dim_reduced))\n",
    "#     errorlist_dimReduced.append(error_dimReduced)\n",
    "#     print(\"Printing error_dimReduced ... \", error_dimReduced)\n",
    "\n",
    "\n",
    "\n",
    "# # Set n_comp for ICA portion of code \n",
    "# n_comp = 7\n",
    "# algs = ['parallel','deflation']\n",
    "\n",
    "# # When you're running the real thing, iterate through these with a for loop \n",
    "# alg = algs[0]\n",
    "# ica = FastICA(n_components=n_comp,whiten=False,algorithm=alg)\n",
    "# # kur0 = sum(kurtosis(X))\n",
    "# ica = ica.fit(X)\n",
    "# x_dimReduced_ICA = ica.transform(X)\n",
    "# kur1 = sum(kurtosis(x_dimReduced_ICA))\n",
    "# print(ica.components_)"
   ]
  }
 ],
 "metadata": {
  "kernelspec": {
   "display_name": "Python 3",
   "language": "python",
   "name": "python3"
  },
  "language_info": {
   "codemirror_mode": {
    "name": "ipython",
    "version": 3
   },
   "file_extension": ".py",
   "mimetype": "text/x-python",
   "name": "python",
   "nbconvert_exporter": "python",
   "pygments_lexer": "ipython3",
   "version": "3.5.2"
  }
 },
 "nbformat": 4,
 "nbformat_minor": 2
}
