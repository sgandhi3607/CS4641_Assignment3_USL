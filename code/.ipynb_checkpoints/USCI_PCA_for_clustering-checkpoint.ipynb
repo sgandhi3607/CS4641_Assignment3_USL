{
 "cells": [
  {
   "cell_type": "markdown",
   "metadata": {},
   "source": [
    "WBCD Dataset Neural Network "
   ]
  },
  {
   "cell_type": "markdown",
   "metadata": {},
   "source": [
    "### Import Libraries"
   ]
  },
  {
   "cell_type": "code",
   "execution_count": 1,
   "metadata": {},
   "outputs": [],
   "source": [
    "import numpy as np\n",
    "import pandas as pd\n",
    "import time \n",
    "\n",
    "import matplotlib.pyplot as plt\n",
    "\n",
    "# from sklearn.cross_validation import cross_val_score\n",
    "from sklearn.metrics import mean_squared_error\n",
    "from sklearn.mixture import GaussianMixture\n",
    "from sklearn.model_selection import KFold\n",
    "from sklearn.model_selection import train_test_split\n",
    "from sklearn.neural_network import MLPClassifier\n",
    "from sklearn.preprocessing import StandardScaler\n",
    "from sklearn.utils import shuffle\n",
    "\n",
    "from sklearn.cluster import KMeans\n",
    "from sklearn.decomposition import PCA\n",
    "\n",
    "from textwrap import wrap"
   ]
  },
  {
   "cell_type": "markdown",
   "metadata": {},
   "source": [
    "### Import more Libraries\n"
   ]
  },
  {
   "cell_type": "code",
   "execution_count": 2,
   "metadata": {},
   "outputs": [],
   "source": [
    "from sklearn.cluster import KMeans\n",
    "from sklearn import metrics\n",
    "from scipy.spatial.distance import cdist\n",
    "import numpy as np\n",
    "import matplotlib.pyplot as plt"
   ]
  },
  {
   "cell_type": "markdown",
   "metadata": {},
   "source": [
    "### Load Dataset"
   ]
  },
  {
   "cell_type": "code",
   "execution_count": 3,
   "metadata": {},
   "outputs": [],
   "source": [
    "RANDOM_SEED = 25\n",
    "\n",
    "df = pd.read_csv('../datasets/us_income/adult-train.csv', delimiter=',', quotechar='\"')\n"
   ]
  },
  {
   "cell_type": "markdown",
   "metadata": {},
   "source": [
    "### Dataframe without Preprocessing "
   ]
  },
  {
   "cell_type": "code",
   "execution_count": 4,
   "metadata": {
    "scrolled": true
   },
   "outputs": [
    {
     "name": "stdout",
     "output_type": "stream",
     "text": [
      "Printing dataframe head (without any preprocessing)....\n",
      "   Age     Workclass  Fnlwgt      Education  EducationNum  \\\n",
      "0   34   Federal-gov   67083      Bachelors            13   \n",
      "1   72   Federal-gov   39110           11th             7   \n",
      "2   45   Federal-gov  235891     Assoc-acdm            12   \n",
      "3   26   Federal-gov  206983    Prof-school            15   \n",
      "4   31   Federal-gov  139455      Bachelors            13   \n",
      "5   27   Federal-gov  196386     Assoc-acdm            12   \n",
      "6   19   Federal-gov  255921   Some-college            10   \n",
      "7   60   Federal-gov   27466   Some-college            10   \n",
      "8   59   Federal-gov  212448        HS-grad             9   \n",
      "9   32   Federal-gov  148138      Bachelors            13   \n",
      "\n",
      "         MaritalStatus          Occupation    Relationship  \\\n",
      "0        Never-married     Exec-managerial       Unmarried   \n",
      "1             Divorced        Adm-clerical   Not-in-family   \n",
      "2        Never-married        Adm-clerical   Not-in-family   \n",
      "3   Married-civ-spouse      Prof-specialty         Husband   \n",
      "4        Never-married     Exec-managerial       Own-child   \n",
      "5   Married-civ-spouse        Adm-clerical         Husband   \n",
      "6        Never-married   Handlers-cleaners       Own-child   \n",
      "7              Widowed     Exec-managerial   Not-in-family   \n",
      "8              Widowed               Sales       Unmarried   \n",
      "9   Married-civ-spouse      Prof-specialty         Husband   \n",
      "\n",
      "                  Race      Sex  CapitalGain  CapitalLoss  HoursPerWeek  \\\n",
      "0   Asian-Pac-Islander     Male         1471            0            40   \n",
      "1                White   Female            0            0             8   \n",
      "2                White     Male            0            0            40   \n",
      "3                White     Male            0            0            60   \n",
      "4                White   Female            0            0            40   \n",
      "5                White     Male         4064            0            40   \n",
      "6                White     Male            0            0            20   \n",
      "7                White   Female            0            0            40   \n",
      "8                White   Female            0            0            40   \n",
      "9   Asian-Pac-Islander     Male            0         2002            40   \n",
      "\n",
      "   NativeCountry  Income  \n",
      "0       Cambodia   <=50K  \n",
      "1         Canada   <=50K  \n",
      "2       Columbia   <=50K  \n",
      "3       Columbia   <=50K  \n",
      "4           Cuba   <=50K  \n",
      "5    El-Salvador   <=50K  \n",
      "6        England   <=50K  \n",
      "7        England   <=50K  \n",
      "8        Germany   <=50K  \n",
      "9           Iran   <=50K  \n"
     ]
    }
   ],
   "source": [
    "print(\"Printing dataframe head (without any preprocessing)....\")\n",
    "print(df.head(10))"
   ]
  },
  {
   "cell_type": "markdown",
   "metadata": {},
   "source": [
    "### Dataset Preprocessing "
   ]
  },
  {
   "cell_type": "code",
   "execution_count": 13,
   "metadata": {},
   "outputs": [],
   "source": [
    "df.replace(' <=50K', 0, inplace=True)\n",
    "df.replace(' >50K', 1, inplace=True)\n",
    "\n",
    "df = pd.get_dummies(df)\n",
    "# print(df.head(5))\n",
    "\n",
    "X = df.loc[:, df.columns != 'Income']\n",
    "y = df['Income']\n",
    "\n"
   ]
  },
  {
   "cell_type": "code",
   "execution_count": 14,
   "metadata": {},
   "outputs": [
    {
     "name": "stdout",
     "output_type": "stream",
     "text": [
      "        Age    Fnlwgt  EducationNum  CapitalGain  CapitalLoss  HoursPerWeek  \\\n",
      "0 -0.337877 -1.161452      1.128900     0.051171    -0.218582     -0.077733   \n",
      "1  2.555231 -1.426215     -1.224046    -0.147442    -0.218582     -2.748855   \n",
      "2  0.499601  0.436307      0.736742    -0.147442    -0.218582     -0.077733   \n",
      "3 -0.946952  0.162695      1.913215    -0.147442    -0.218582      1.591718   \n",
      "4 -0.566280 -0.476455      1.128900    -0.147442    -0.218582     -0.077733   \n",
      "5 -0.870818  0.062395      0.736742     0.401276    -0.218582     -0.077733   \n",
      "6 -1.479893  0.625890     -0.047573    -0.147442    -0.218582     -1.747184   \n",
      "7  1.641618 -1.536425     -0.047573    -0.147442    -0.218582     -0.077733   \n",
      "8  1.565483  0.214421     -0.439731    -0.147442    -0.218582     -0.077733   \n",
      "9 -0.490146 -0.394270      1.128900    -0.147442     4.733206     -0.077733   \n",
      "\n",
      "     Income  Workclass_ Federal-gov  Workclass_ Local-gov  Workclass_ Private  \\\n",
      "0 -0.575682                5.566339             -0.271237           -1.682116   \n",
      "1 -0.575682                5.566339             -0.271237           -1.682116   \n",
      "2 -0.575682                5.566339             -0.271237           -1.682116   \n",
      "3 -0.575682                5.566339             -0.271237           -1.682116   \n",
      "4 -0.575682                5.566339             -0.271237           -1.682116   \n",
      "5 -0.575682                5.566339             -0.271237           -1.682116   \n",
      "6 -0.575682                5.566339             -0.271237           -1.682116   \n",
      "7 -0.575682                5.566339             -0.271237           -1.682116   \n",
      "8 -0.575682                5.566339             -0.271237           -1.682116   \n",
      "9 -0.575682                5.566339             -0.271237           -1.682116   \n",
      "\n",
      "   ...   NativeCountry_ Portugal   NativeCountry_ Puerto-Rico  \\\n",
      "0  ...                 -0.033593                    -0.060223   \n",
      "1  ...                 -0.033593                    -0.060223   \n",
      "2  ...                 -0.033593                    -0.060223   \n",
      "3  ...                 -0.033593                    -0.060223   \n",
      "4  ...                 -0.033593                    -0.060223   \n",
      "5  ...                 -0.033593                    -0.060223   \n",
      "6  ...                 -0.033593                    -0.060223   \n",
      "7  ...                 -0.033593                    -0.060223   \n",
      "8  ...                 -0.033593                    -0.060223   \n",
      "9  ...                 -0.033593                    -0.060223   \n",
      "\n",
      "    NativeCountry_ Scotland   NativeCountry_ South   NativeCountry_ Taiwan  \\\n",
      "0                   -0.0191              -0.048574               -0.037341   \n",
      "1                   -0.0191              -0.048574               -0.037341   \n",
      "2                   -0.0191              -0.048574               -0.037341   \n",
      "3                   -0.0191              -0.048574               -0.037341   \n",
      "4                   -0.0191              -0.048574               -0.037341   \n",
      "5                   -0.0191              -0.048574               -0.037341   \n",
      "6                   -0.0191              -0.048574               -0.037341   \n",
      "7                   -0.0191              -0.048574               -0.037341   \n",
      "8                   -0.0191              -0.048574               -0.037341   \n",
      "9                   -0.0191              -0.048574               -0.037341   \n",
      "\n",
      "    NativeCountry_ Thailand   NativeCountry_ Trinadad&Tobago  \\\n",
      "0                 -0.023747                        -0.024436   \n",
      "1                 -0.023747                        -0.024436   \n",
      "2                 -0.023747                        -0.024436   \n",
      "3                 -0.023747                        -0.024436   \n",
      "4                 -0.023747                        -0.024436   \n",
      "5                 -0.023747                        -0.024436   \n",
      "6                 -0.023747                        -0.024436   \n",
      "7                 -0.023747                        -0.024436   \n",
      "8                 -0.023747                        -0.024436   \n",
      "9                 -0.023747                        -0.024436   \n",
      "\n",
      "    NativeCountry_ United-States   NativeCountry_ Vietnam  \\\n",
      "0                       -3.21672                -0.046112   \n",
      "1                       -3.21672                -0.046112   \n",
      "2                       -3.21672                -0.046112   \n",
      "3                       -3.21672                -0.046112   \n",
      "4                       -3.21672                -0.046112   \n",
      "5                       -3.21672                -0.046112   \n",
      "6                       -3.21672                -0.046112   \n",
      "7                       -3.21672                -0.046112   \n",
      "8                       -3.21672                -0.046112   \n",
      "9                       -3.21672                -0.046112   \n",
      "\n",
      "    NativeCountry_ Yugoslavia  \n",
      "0                   -0.023038  \n",
      "1                   -0.023038  \n",
      "2                   -0.023038  \n",
      "3                   -0.023038  \n",
      "4                   -0.023038  \n",
      "5                   -0.023038  \n",
      "6                   -0.023038  \n",
      "7                   -0.023038  \n",
      "8                   -0.023038  \n",
      "9                   -0.023038  \n",
      "\n",
      "[10 rows x 105 columns]\n"
     ]
    }
   ],
   "source": [
    "normalized_df=(df-df.mean())/df.std()\n",
    "print(normalized_df.head(10))\n",
    "X_normalized = df.loc[:, normalized_df.columns != 'Income']\n"
   ]
  },
  {
   "cell_type": "markdown",
   "metadata": {},
   "source": [
    "### Sanity Check on Dataframe "
   ]
  },
  {
   "cell_type": "code",
   "execution_count": 9,
   "metadata": {
    "scrolled": true
   },
   "outputs": [
    {
     "name": "stdout",
     "output_type": "stream",
     "text": [
      "Sanity Check: Printing out dataframe and shape after preprocessing... \n",
      "   Age  Fnlwgt  EducationNum  CapitalGain  CapitalLoss  HoursPerWeek  Income  \\\n",
      "0   34   67083            13         1471            0            40       0   \n",
      "1   72   39110             7            0            0             8       0   \n",
      "2   45  235891            12            0            0            40       0   \n",
      "3   26  206983            15            0            0            60       0   \n",
      "4   31  139455            13            0            0            40       0   \n",
      "5   27  196386            12         4064            0            40       0   \n",
      "6   19  255921            10            0            0            20       0   \n",
      "7   60   27466            10            0            0            40       0   \n",
      "8   59  212448             9            0            0            40       0   \n",
      "9   32  148138            13            0         2002            40       0   \n",
      "\n",
      "   Workclass_ Federal-gov  Workclass_ Local-gov  Workclass_ Private  ...  \\\n",
      "0                       1                     0                   0  ...   \n",
      "1                       1                     0                   0  ...   \n",
      "2                       1                     0                   0  ...   \n",
      "3                       1                     0                   0  ...   \n",
      "4                       1                     0                   0  ...   \n",
      "5                       1                     0                   0  ...   \n",
      "6                       1                     0                   0  ...   \n",
      "7                       1                     0                   0  ...   \n",
      "8                       1                     0                   0  ...   \n",
      "9                       1                     0                   0  ...   \n",
      "\n",
      "    NativeCountry_ Portugal   NativeCountry_ Puerto-Rico  \\\n",
      "0                         0                            0   \n",
      "1                         0                            0   \n",
      "2                         0                            0   \n",
      "3                         0                            0   \n",
      "4                         0                            0   \n",
      "5                         0                            0   \n",
      "6                         0                            0   \n",
      "7                         0                            0   \n",
      "8                         0                            0   \n",
      "9                         0                            0   \n",
      "\n",
      "    NativeCountry_ Scotland   NativeCountry_ South   NativeCountry_ Taiwan  \\\n",
      "0                         0                      0                       0   \n",
      "1                         0                      0                       0   \n",
      "2                         0                      0                       0   \n",
      "3                         0                      0                       0   \n",
      "4                         0                      0                       0   \n",
      "5                         0                      0                       0   \n",
      "6                         0                      0                       0   \n",
      "7                         0                      0                       0   \n",
      "8                         0                      0                       0   \n",
      "9                         0                      0                       0   \n",
      "\n",
      "    NativeCountry_ Thailand   NativeCountry_ Trinadad&Tobago  \\\n",
      "0                         0                                0   \n",
      "1                         0                                0   \n",
      "2                         0                                0   \n",
      "3                         0                                0   \n",
      "4                         0                                0   \n",
      "5                         0                                0   \n",
      "6                         0                                0   \n",
      "7                         0                                0   \n",
      "8                         0                                0   \n",
      "9                         0                                0   \n",
      "\n",
      "    NativeCountry_ United-States   NativeCountry_ Vietnam  \\\n",
      "0                              0                        0   \n",
      "1                              0                        0   \n",
      "2                              0                        0   \n",
      "3                              0                        0   \n",
      "4                              0                        0   \n",
      "5                              0                        0   \n",
      "6                              0                        0   \n",
      "7                              0                        0   \n",
      "8                              0                        0   \n",
      "9                              0                        0   \n",
      "\n",
      "    NativeCountry_ Yugoslavia  \n",
      "0                           0  \n",
      "1                           0  \n",
      "2                           0  \n",
      "3                           0  \n",
      "4                           0  \n",
      "5                           0  \n",
      "6                           0  \n",
      "7                           0  \n",
      "8                           0  \n",
      "9                           0  \n",
      "\n",
      "[10 rows x 105 columns]\n",
      "df.shape:  (30162, 105)\n"
     ]
    }
   ],
   "source": [
    "print(\"Sanity Check: Printing out dataframe and shape after preprocessing... \")\n",
    "print(df.head(10))\n",
    "print(\"df.shape: \", df.shape)\n"
   ]
  },
  {
   "cell_type": "markdown",
   "metadata": {},
   "source": [
    "### PCA"
   ]
  },
  {
   "cell_type": "code",
   "execution_count": 19,
   "metadata": {},
   "outputs": [
    {
     "name": "stdout",
     "output_type": "stream",
     "text": [
      "[9.95095396e-01 4.89001986e-03 1.45550739e-05 1.56825562e-08\n",
      " 1.21453136e-08 5.64364666e-10 6.58654218e-11 2.77626064e-11\n",
      " 2.34237543e-11 2.01551783e-11 1.72888927e-11 1.58862841e-11\n",
      " 1.54280432e-11 1.31212754e-11 1.21290166e-11 1.08027115e-11\n",
      " 1.03296568e-11 9.89324823e-12 8.19282969e-12 8.15808407e-12\n",
      " 7.57421872e-12 7.03359599e-12 6.49962487e-12 5.59269714e-12\n",
      " 5.05500228e-12 4.73753887e-12 4.49798542e-12 4.07853168e-12\n",
      " 3.94440721e-12 3.83870687e-12 3.41558362e-12 3.19102054e-12\n",
      " 3.10860901e-12 3.00821557e-12 2.92871902e-12 2.86097189e-12\n",
      " 2.79334077e-12 2.47184710e-12 2.39211734e-12 2.16318623e-12\n",
      " 1.76150528e-12 1.70268793e-12 1.47172153e-12 1.34160463e-12\n",
      " 1.26211807e-12 1.23184345e-12 1.14458191e-12 1.10941363e-12\n",
      " 8.08648896e-13 7.36582013e-13 5.28061884e-13 4.63097918e-13\n",
      " 4.39022018e-13 3.63905005e-13 3.14875588e-13 3.00970434e-13\n",
      " 2.95256330e-13 2.80632238e-13 2.72666361e-13 2.61078316e-13\n",
      " 2.40411905e-13 2.16129830e-13 2.04951657e-13 1.95747600e-13\n",
      " 1.93638711e-13 1.87248323e-13 1.76651420e-13 1.71581727e-13\n",
      " 1.64906909e-13 1.62260384e-13 1.45485901e-13 1.33667899e-13\n",
      " 1.22833519e-13 1.12924097e-13 9.91539314e-14 9.70314076e-14\n",
      " 9.05691934e-14 8.65949513e-14 8.15121542e-14 7.88465712e-14\n",
      " 7.19462733e-14 6.64652942e-14 5.65511700e-14 5.47148999e-14\n",
      " 5.20986699e-14 5.01485888e-14 4.98282508e-14 4.79565213e-14\n",
      " 4.57841654e-14 4.11881833e-14 3.85218621e-14 3.56461337e-14\n",
      " 3.27758168e-14 2.82892013e-14 3.01736678e-15 9.82341709e-33\n",
      " 9.82341709e-33 9.82341709e-33 9.82341709e-33 9.82341709e-33]\n",
      "Printing error_dimReduced ...  0.38684437371527086\n"
     ]
    }
   ],
   "source": [
    "# Specify number of eignevectors to use for PCA \n",
    "n_comp_list = range(1, 101)\n",
    "n_comp = 100\n",
    "pca = PCA(n_components=n_comp)\n",
    "\n",
    "# Without normalization \n",
    "# X_dim_reduced = pca.fit(X).transform(X)\n",
    "# with normalization\n",
    "X_dim_reduced = pca.fit(X_normalized).transform(X_normalized)\n",
    "\n",
    "print(pca.explained_variance_ratio_)\n",
    "a\n",
    "# print(\"Printing X_dim_reduced...\")\n",
    "# print(X_dim_reduced)\n",
    "\n",
    "\n",
    "clf_dimReduced = KMeans(n_clusters=2, random_state=0)\n",
    "clf_dimReduced.fit(X_dim_reduced)\n",
    "error_dimReduced = mean_squared_error(y, clf_dimReduced.predict(X_dim_reduced))\n",
    "print(\"Printing error_dimReduced ... \", error_dimReduced)\n"
   ]
  },
  {
   "cell_type": "markdown",
   "metadata": {},
   "source": [
    "### Plot the PCA variance with change no. of components"
   ]
  },
  {
   "cell_type": "code",
   "execution_count": 21,
   "metadata": {},
   "outputs": [
    {
     "data": {
      "image/png": "[encoded data removed]",
      "text/plain": [
       "<Figure size 432x288 with 1 Axes>"
      ]
     },
     "metadata": {
      "needs_background": "light"
     },
     "output_type": "display_data"
    }
   ],
   "source": [
    "plt.plot(n_comp_list, pca.explained_variance_ratio_, '-')\n",
    "plt.title('USCI | PCA: Increase in variance (by adding last principal component)')\n",
    "plt.xlabel('Number of principal components')\n",
    "plt.ylabel('Variance')\n",
    "plt.savefig('USCI_PCA.png')\n",
    "plt.show()"
   ]
  },
  {
   "cell_type": "markdown",
   "metadata": {},
   "source": [
    "### Determine which features were most important (or variant)`"
   ]
  },
  {
   "cell_type": "code",
   "execution_count": 23,
   "metadata": {},
   "outputs": [
    {
     "name": "stdout",
     "output_type": "stream",
     "text": [
      "[-9.51172601e-06  9.99999999e-01 -1.08589546e-06  2.96984208e-05\n",
      " -3.73089656e-05 -2.59499593e-06 -1.14186576e-08 -8.41695316e-09\n",
      "  1.93695232e-07 -4.47194909e-08 -1.08157217e-07 -2.03372764e-08\n",
      " -6.45636685e-10  1.74771665e-08  1.08199348e-08  1.18736342e-08\n",
      "  2.48762445e-08  3.94333052e-08  1.85003144e-09  1.98571820e-08\n",
      "  9.04873547e-09 -3.35942736e-08 -2.78698606e-08 -1.12670929e-09\n",
      " -1.19695762e-08 -4.73701661e-08  6.37635046e-09 -6.71712977e-09\n",
      " -1.29648690e-08 -5.17036174e-08 -2.26708858e-10 -1.37643649e-07\n",
      "  5.08027291e-09  1.70700053e-07  4.92639706e-08 -3.54703217e-08\n",
      "  2.38291456e-08  6.85198083e-10  2.99772866e-08 -6.28105944e-08\n",
      " -5.70255160e-08  5.53706897e-08  3.15721673e-08 -1.29672359e-08\n",
      "  4.63728463e-09 -5.63127702e-08  2.41172457e-08  1.22255556e-08\n",
      "  4.89156632e-09  1.80997700e-09 -1.10096862e-07  4.33021633e-08\n",
      "  4.28386294e-08  4.91690886e-08  9.50406089e-09 -3.47170798e-08\n",
      " -5.63226190e-08 -8.09641625e-08  3.26432804e-07  4.10192882e-09\n",
      " -1.93247951e-07 -1.12375344e-07  1.12375344e-07 -2.68450599e-11\n",
      " -2.70956375e-09 -2.22176372e-09  6.34894567e-09  1.59229623e-08\n",
      "  6.62535235e-10 -2.61573350e-10  1.91108654e-08 -1.66037983e-09\n",
      "  4.47766413e-10  4.14275732e-10 -3.99051459e-09  1.42896319e-08\n",
      "  2.42839483e-09 -4.80916547e-10  2.18807590e-09  1.85060656e-09\n",
      " -3.59309362e-10 -6.31313700e-09 -1.03428886e-09 -3.69233062e-09\n",
      " -1.37586174e-09  5.75789613e-09  3.78541366e-11  1.37673491e-09\n",
      "  1.82425623e-07  1.03256648e-08  6.11021672e-10  7.77823519e-09\n",
      " -1.41214512e-08 -9.15642656e-10 -4.45291440e-09  4.04471390e-09\n",
      " -5.52085009e-10 -4.86117937e-09  5.69928030e-10 -2.78853610e-10\n",
      " -9.54297734e-11 -2.23744488e-07 -4.68690371e-09  1.24370088e-09]\n"
     ]
    }
   ],
   "source": [
    "# Match this with dataframe above \n",
    "print(pca.components_[0])"
   ]
  },
  {
   "cell_type": "markdown",
   "metadata": {},
   "source": [
    "### Clustering after PCA"
   ]
  },
  {
   "cell_type": "code",
   "execution_count": 27,
   "metadata": {},
   "outputs": [
    {
     "name": "stdout",
     "output_type": "stream",
     "text": [
      "100\n"
     ]
    }
   ],
   "source": [
    "print(len(X_dim_reduced[0]))"
   ]
  },
  {
   "cell_type": "code",
   "execution_count": 28,
   "metadata": {},
   "outputs": [
    {
     "name": "stdout",
     "output_type": "stream",
     "text": [
      "[9.95095396e-01 4.89001986e-03 1.45550739e-05 1.56825562e-08\n",
      " 1.21453136e-08 5.64364666e-10 6.58654218e-11 2.77626064e-11\n",
      " 2.34237528e-11 2.01551280e-11]\n"
     ]
    },
    {
     "ename": "NameError",
     "evalue": "name 'a' is not defined",
     "output_type": "error",
     "traceback": [
      "\u001b[0;31m---------------------------------------------------------------------------\u001b[0m",
      "\u001b[0;31mNameError\u001b[0m                                 Traceback (most recent call last)",
      "\u001b[0;32m<ipython-input-28-2dff55013e32>\u001b[0m in \u001b[0;36m<module>\u001b[0;34m\u001b[0m\n\u001b[1;32m     20\u001b[0m \u001b[0;34m\u001b[0m\u001b[0m\n\u001b[1;32m     21\u001b[0m \u001b[0mprint\u001b[0m\u001b[0;34m(\u001b[0m\u001b[0mpca\u001b[0m\u001b[0;34m.\u001b[0m\u001b[0mexplained_variance_ratio_\u001b[0m\u001b[0;34m)\u001b[0m\u001b[0;34m\u001b[0m\u001b[0m\n\u001b[0;32m---> 22\u001b[0;31m \u001b[0ma\u001b[0m\u001b[0;34m\u001b[0m\u001b[0m\n\u001b[0m\u001b[1;32m     23\u001b[0m \u001b[0;31m# print(\"Printing X_dim_reduced...\")\u001b[0m\u001b[0;34m\u001b[0m\u001b[0;34m\u001b[0m\u001b[0m\n\u001b[1;32m     24\u001b[0m \u001b[0;31m# print(X_dim_reduced)\u001b[0m\u001b[0;34m\u001b[0m\u001b[0;34m\u001b[0m\u001b[0m\n",
      "\u001b[0;31mNameError\u001b[0m: name 'a' is not defined"
     ]
    }
   ],
   "source": [
    "# clf_dimReduced = KMeans(n_clusters=2, random_state=0)\n",
    "# clf_dimReduced.fit(X_dim_reduced)\n",
    "# error_dimReduced = mean_squared_error(y, clf_dimReduced.predict(X_dim_reduced))\n",
    "# print(\"Printing error_dimReduced ... \", error_dimReduced)\n",
    "\n",
    "\n",
    "\n",
    "\n",
    "# CONDUCT PCA \n",
    "\n",
    "# Specify number of eignevectors to use for PCA \n",
    "n_comp_list = range(1, 11)\n",
    "n_comp = 10\n",
    "pca = PCA(n_components=n_comp)\n",
    "\n",
    "# Without normalization \n",
    "# X_dim_reduced = pca.fit(X).transform(X)\n",
    "# with normalization\n",
    "X_dim_reduced = pca.fit(X_normalized).transform(X_normalized)\n",
    "\n",
    "print(pca.explained_variance_ratio_)\n",
    "\n",
    "# print(\"Printing X_dim_reduced...\")\n",
    "# print(X_dim_reduced)\n",
    "\n",
    "\n",
    "clf_dimReduced = KMeans(n_clusters=2, random_state=0)\n",
    "clf_dimReduced.fit(X_dim_reduced)\n",
    "error_dimReduced = mean_squared_error(y, clf_dimReduced.predict(X_dim_reduced))\n",
    "print(\"Printing error_dimReduced ... \", error_dimReduced)\n",
    "\n",
    "\n",
    "\n",
    "\n",
    "# CONDUCT CLUSTERING (K-MEANS) \n",
    "\n",
    "# Hyperparameters \n",
    "\n",
    "# Vary this as needed \n",
    "init_method = \"k-means++\"\n",
    "# Number of times to run algo with different centroid seeds \n",
    "n_init = 1\n",
    "max_iter = 10 \n",
    "# Runs each of the n_inits in parallel using specified number of threads\n",
    "n_jobs = 1\n",
    "\n",
    "\n",
    "# k means determine k\n",
    "distortions = []\n",
    "K = range(1,101)\n",
    "\n",
    "for k in K:\n",
    "    print(\"clustering after pca for k-value: \", k)\n",
    "    kmeanModel = KMeans(n_clusters=k).fit(X_dim_reduced)\n",
    "    kmeanModel.fit(X_dim_reduced)\n",
    "    \n",
    "    clf_kMeans = KMeans(n_clusters=k, random_state=0)\n",
    "    clf_kMeans.fit(X)\n",
    "    distortions.append(sum(np.min(cdist(X_dim_reduced, kmeanModel.cluster_centers_, 'euclidean'), axis=1)) / X.shape[0])\n",
    "\n",
    "    \n",
    "# Plot the elbow\n",
    "plt.plot(K, distortions, 'bx-')\n",
    "plt.xlabel('k')\n",
    "plt.ylabel('Distortion')\n",
    "plt.title('The Elbow Method showing varying k on USCI (after PCA)')\n",
    "plt.xlabel('Number of cluster centers')\n",
    "plt.ylabel('Sum of Squared Error')\n",
    "plt.show()"
   ]
  }
 ],
 "metadata": {
  "kernelspec": {
   "display_name": "Python 3",
   "language": "python",
   "name": "python3"
  },
  "language_info": {
   "codemirror_mode": {
    "name": "ipython",
    "version": 3
   },
   "file_extension": ".py",
   "mimetype": "text/x-python",
   "name": "python",
   "nbconvert_exporter": "python",
   "pygments_lexer": "ipython3",
   "version": "3.5.2"
  }
 },
 "nbformat": 4,
 "nbformat_minor": 2
}
