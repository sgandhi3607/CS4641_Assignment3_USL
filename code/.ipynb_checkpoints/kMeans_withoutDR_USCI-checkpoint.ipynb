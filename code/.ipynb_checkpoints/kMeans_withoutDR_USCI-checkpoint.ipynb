{
 "cells": [
  {
   "cell_type": "markdown",
   "metadata": {},
   "source": [
    "WBCD Dataset Neural Network "
   ]
  },
  {
   "cell_type": "markdown",
   "metadata": {},
   "source": [
    "### Import Libraries"
   ]
  },
  {
   "cell_type": "code",
   "execution_count": 8,
   "metadata": {},
   "outputs": [],
   "source": [
    "import numpy as np\n",
    "import pandas as pd\n",
    "import time \n",
    "\n",
    "import matplotlib.pyplot as plt\n",
    "\n",
    "# from sklearn.cross_validation import cross_val_score\n",
    "from sklearn.metrics import mean_squared_error\n",
    "from sklearn.mixture import GaussianMixture\n",
    "from sklearn.model_selection import KFold\n",
    "from sklearn.model_selection import train_test_split\n",
    "from sklearn.neural_network import MLPClassifier\n",
    "from sklearn.preprocessing import StandardScaler\n",
    "from sklearn.utils import shuffle\n",
    "\n",
    "from sklearn.cluster import KMeans\n",
    "from sklearn.decomposition import PCA\n",
    "\n",
    "from textwrap import wrap"
   ]
  },
  {
   "cell_type": "markdown",
   "metadata": {},
   "source": [
    "### Import more Libraries\n"
   ]
  },
  {
   "cell_type": "code",
   "execution_count": 9,
   "metadata": {},
   "outputs": [],
   "source": [
    "from sklearn.cluster import KMeans\n",
    "from sklearn import metrics\n",
    "from scipy.spatial.distance import cdist\n",
    "import numpy as np\n",
    "import matplotlib.pyplot as plt"
   ]
  },
  {
   "cell_type": "markdown",
   "metadata": {},
   "source": [
    "### Load Dataset"
   ]
  },
  {
   "cell_type": "code",
   "execution_count": 3,
   "metadata": {},
   "outputs": [],
   "source": [
    "RANDOM_SEED = 25\n",
    "\n",
    "df = pd.read_csv('../datasets/us_income/adult-train.csv', delimiter=',', quotechar='\"')\n"
   ]
  },
  {
   "cell_type": "markdown",
   "metadata": {},
   "source": [
    "### Dataframe without Preprocessing "
   ]
  },
  {
   "cell_type": "code",
   "execution_count": 4,
   "metadata": {
    "scrolled": true
   },
   "outputs": [
    {
     "name": "stdout",
     "output_type": "stream",
     "text": [
      "Printing dataframe head (without any preprocessing)....\n",
      "   Age     Workclass  Fnlwgt      Education  EducationNum  \\\n",
      "0   34   Federal-gov   67083      Bachelors            13   \n",
      "1   72   Federal-gov   39110           11th             7   \n",
      "2   45   Federal-gov  235891     Assoc-acdm            12   \n",
      "3   26   Federal-gov  206983    Prof-school            15   \n",
      "4   31   Federal-gov  139455      Bachelors            13   \n",
      "5   27   Federal-gov  196386     Assoc-acdm            12   \n",
      "6   19   Federal-gov  255921   Some-college            10   \n",
      "7   60   Federal-gov   27466   Some-college            10   \n",
      "8   59   Federal-gov  212448        HS-grad             9   \n",
      "9   32   Federal-gov  148138      Bachelors            13   \n",
      "\n",
      "         MaritalStatus          Occupation    Relationship  \\\n",
      "0        Never-married     Exec-managerial       Unmarried   \n",
      "1             Divorced        Adm-clerical   Not-in-family   \n",
      "2        Never-married        Adm-clerical   Not-in-family   \n",
      "3   Married-civ-spouse      Prof-specialty         Husband   \n",
      "4        Never-married     Exec-managerial       Own-child   \n",
      "5   Married-civ-spouse        Adm-clerical         Husband   \n",
      "6        Never-married   Handlers-cleaners       Own-child   \n",
      "7              Widowed     Exec-managerial   Not-in-family   \n",
      "8              Widowed               Sales       Unmarried   \n",
      "9   Married-civ-spouse      Prof-specialty         Husband   \n",
      "\n",
      "                  Race      Sex  CapitalGain  CapitalLoss  HoursPerWeek  \\\n",
      "0   Asian-Pac-Islander     Male         1471            0            40   \n",
      "1                White   Female            0            0             8   \n",
      "2                White     Male            0            0            40   \n",
      "3                White     Male            0            0            60   \n",
      "4                White   Female            0            0            40   \n",
      "5                White     Male         4064            0            40   \n",
      "6                White     Male            0            0            20   \n",
      "7                White   Female            0            0            40   \n",
      "8                White   Female            0            0            40   \n",
      "9   Asian-Pac-Islander     Male            0         2002            40   \n",
      "\n",
      "   NativeCountry  Income  \n",
      "0       Cambodia   <=50K  \n",
      "1         Canada   <=50K  \n",
      "2       Columbia   <=50K  \n",
      "3       Columbia   <=50K  \n",
      "4           Cuba   <=50K  \n",
      "5    El-Salvador   <=50K  \n",
      "6        England   <=50K  \n",
      "7        England   <=50K  \n",
      "8        Germany   <=50K  \n",
      "9           Iran   <=50K  \n"
     ]
    }
   ],
   "source": [
    "print(\"Printing dataframe head (without any preprocessing)....\")\n",
    "print(df.head(10))"
   ]
  },
  {
   "cell_type": "markdown",
   "metadata": {},
   "source": [
    "### Dataset Preprocessing "
   ]
  },
  {
   "cell_type": "code",
   "execution_count": 5,
   "metadata": {},
   "outputs": [],
   "source": [
    "df.replace(' <=50K', 0, inplace=True)\n",
    "df.replace(' >50K', 1, inplace=True)\n",
    "\n",
    "df = pd.get_dummies(df)\n",
    "# print(df.head(5))\n",
    "\n",
    "X = df.loc[:, df.columns != 'Income']\n",
    "y = df['Income']"
   ]
  },
  {
   "cell_type": "markdown",
   "metadata": {},
   "source": [
    "### Sanity Check on Dataframe "
   ]
  },
  {
   "cell_type": "code",
   "execution_count": 6,
   "metadata": {
    "scrolled": true
   },
   "outputs": [
    {
     "name": "stdout",
     "output_type": "stream",
     "text": [
      "Sanity Check: Printing out dataframe and shape after preprocessing... \n",
      "   Age  Fnlwgt  EducationNum  CapitalGain  CapitalLoss  HoursPerWeek  Income  \\\n",
      "0   34   67083            13         1471            0            40       0   \n",
      "1   72   39110             7            0            0             8       0   \n",
      "2   45  235891            12            0            0            40       0   \n",
      "3   26  206983            15            0            0            60       0   \n",
      "4   31  139455            13            0            0            40       0   \n",
      "5   27  196386            12         4064            0            40       0   \n",
      "6   19  255921            10            0            0            20       0   \n",
      "7   60   27466            10            0            0            40       0   \n",
      "8   59  212448             9            0            0            40       0   \n",
      "9   32  148138            13            0         2002            40       0   \n",
      "\n",
      "   Workclass_ Federal-gov  Workclass_ Local-gov  Workclass_ Private  ...  \\\n",
      "0                       1                     0                   0  ...   \n",
      "1                       1                     0                   0  ...   \n",
      "2                       1                     0                   0  ...   \n",
      "3                       1                     0                   0  ...   \n",
      "4                       1                     0                   0  ...   \n",
      "5                       1                     0                   0  ...   \n",
      "6                       1                     0                   0  ...   \n",
      "7                       1                     0                   0  ...   \n",
      "8                       1                     0                   0  ...   \n",
      "9                       1                     0                   0  ...   \n",
      "\n",
      "    NativeCountry_ Portugal   NativeCountry_ Puerto-Rico  \\\n",
      "0                         0                            0   \n",
      "1                         0                            0   \n",
      "2                         0                            0   \n",
      "3                         0                            0   \n",
      "4                         0                            0   \n",
      "5                         0                            0   \n",
      "6                         0                            0   \n",
      "7                         0                            0   \n",
      "8                         0                            0   \n",
      "9                         0                            0   \n",
      "\n",
      "    NativeCountry_ Scotland   NativeCountry_ South   NativeCountry_ Taiwan  \\\n",
      "0                         0                      0                       0   \n",
      "1                         0                      0                       0   \n",
      "2                         0                      0                       0   \n",
      "3                         0                      0                       0   \n",
      "4                         0                      0                       0   \n",
      "5                         0                      0                       0   \n",
      "6                         0                      0                       0   \n",
      "7                         0                      0                       0   \n",
      "8                         0                      0                       0   \n",
      "9                         0                      0                       0   \n",
      "\n",
      "    NativeCountry_ Thailand   NativeCountry_ Trinadad&Tobago  \\\n",
      "0                         0                                0   \n",
      "1                         0                                0   \n",
      "2                         0                                0   \n",
      "3                         0                                0   \n",
      "4                         0                                0   \n",
      "5                         0                                0   \n",
      "6                         0                                0   \n",
      "7                         0                                0   \n",
      "8                         0                                0   \n",
      "9                         0                                0   \n",
      "\n",
      "    NativeCountry_ United-States   NativeCountry_ Vietnam  \\\n",
      "0                              0                        0   \n",
      "1                              0                        0   \n",
      "2                              0                        0   \n",
      "3                              0                        0   \n",
      "4                              0                        0   \n",
      "5                              0                        0   \n",
      "6                              0                        0   \n",
      "7                              0                        0   \n",
      "8                              0                        0   \n",
      "9                              0                        0   \n",
      "\n",
      "    NativeCountry_ Yugoslavia  \n",
      "0                           0  \n",
      "1                           0  \n",
      "2                           0  \n",
      "3                           0  \n",
      "4                           0  \n",
      "5                           0  \n",
      "6                           0  \n",
      "7                           0  \n",
      "8                           0  \n",
      "9                           0  \n",
      "\n",
      "[10 rows x 105 columns]\n",
      "df.shape:  (30162, 105)\n"
     ]
    }
   ],
   "source": [
    "print(\"Sanity Check: Printing out dataframe and shape after preprocessing... \")\n",
    "print(df.head(10))\n",
    "print(\"df.shape: \", df.shape)\n"
   ]
  },
  {
   "cell_type": "markdown",
   "metadata": {},
   "source": [
    "### Run kMeans Experiments, varying k"
   ]
  },
  {
   "cell_type": "code",
   "execution_count": 12,
   "metadata": {},
   "outputs": [
    {
     "name": "stdout",
     "output_type": "stream",
     "text": [
      "running kMeans for k = 1  .........\n",
      "running kMeans for k = 2  .........\n",
      "running kMeans for k = 3  .........\n",
      "running kMeans for k = 4  .........\n",
      "running kMeans for k = 5  .........\n",
      "running kMeans for k = 6  .........\n",
      "running kMeans for k = 7  .........\n",
      "running kMeans for k = 8  .........\n",
      "running kMeans for k = 9  .........\n",
      "running kMeans for k = 10  .........\n",
      "running kMeans for k = 11  .........\n",
      "running kMeans for k = 12  .........\n",
      "running kMeans for k = 13  .........\n",
      "running kMeans for k = 14  .........\n",
      "running kMeans for k = 15  .........\n",
      "running kMeans for k = 16  .........\n",
      "running kMeans for k = 17  .........\n",
      "running kMeans for k = 18  .........\n",
      "running kMeans for k = 19  .........\n",
      "running kMeans for k = 20  .........\n",
      "running kMeans for k = 21  .........\n",
      "running kMeans for k = 22  .........\n",
      "running kMeans for k = 23  .........\n",
      "running kMeans for k = 24  .........\n",
      "running kMeans for k = 25  .........\n",
      "running kMeans for k = 26  .........\n",
      "running kMeans for k = 27  .........\n",
      "running kMeans for k = 28  .........\n",
      "running kMeans for k = 29  .........\n",
      "running kMeans for k = 30  .........\n",
      "running kMeans for k = 31  .........\n",
      "running kMeans for k = 32  .........\n",
      "running kMeans for k = 33  .........\n",
      "running kMeans for k = 34  .........\n",
      "running kMeans for k = 35  .........\n",
      "running kMeans for k = 36  .........\n",
      "running kMeans for k = 37  .........\n",
      "running kMeans for k = 38  .........\n",
      "running kMeans for k = 39  .........\n",
      "running kMeans for k = 40  .........\n",
      "running kMeans for k = 41  .........\n",
      "running kMeans for k = 42  .........\n",
      "running kMeans for k = 43  .........\n",
      "running kMeans for k = 44  .........\n",
      "running kMeans for k = 45  .........\n",
      "running kMeans for k = 46  .........\n",
      "running kMeans for k = 47  .........\n",
      "running kMeans for k = 48  .........\n",
      "running kMeans for k = 49  .........\n",
      "running kMeans for k = 50  .........\n",
      "running kMeans for k = 51  .........\n",
      "running kMeans for k = 52  .........\n",
      "running kMeans for k = 53  .........\n",
      "running kMeans for k = 54  .........\n",
      "running kMeans for k = 55  .........\n",
      "running kMeans for k = 56  .........\n",
      "running kMeans for k = 57  .........\n",
      "running kMeans for k = 58  .........\n",
      "running kMeans for k = 59  .........\n",
      "running kMeans for k = 60  .........\n",
      "running kMeans for k = 61  .........\n",
      "running kMeans for k = 62  .........\n",
      "running kMeans for k = 63  .........\n",
      "running kMeans for k = 64  .........\n",
      "running kMeans for k = 65  .........\n",
      "running kMeans for k = 66  .........\n",
      "running kMeans for k = 67  .........\n",
      "running kMeans for k = 68  .........\n",
      "running kMeans for k = 69  .........\n",
      "running kMeans for k = 70  .........\n",
      "running kMeans for k = 71  .........\n",
      "running kMeans for k = 72  .........\n",
      "running kMeans for k = 73  .........\n",
      "running kMeans for k = 74  .........\n",
      "running kMeans for k = 75  .........\n",
      "running kMeans for k = 76  .........\n",
      "running kMeans for k = 77  .........\n",
      "running kMeans for k = 78  .........\n",
      "running kMeans for k = 79  .........\n",
      "running kMeans for k = 80  .........\n",
      "running kMeans for k = 81  .........\n",
      "running kMeans for k = 82  .........\n",
      "running kMeans for k = 83  .........\n",
      "running kMeans for k = 84  .........\n",
      "running kMeans for k = 85  .........\n",
      "running kMeans for k = 86  .........\n",
      "running kMeans for k = 87  .........\n",
      "running kMeans for k = 88  .........\n",
      "running kMeans for k = 89  .........\n",
      "running kMeans for k = 90  .........\n",
      "running kMeans for k = 91  .........\n",
      "running kMeans for k = 92  .........\n",
      "running kMeans for k = 93  .........\n",
      "running kMeans for k = 94  .........\n",
      "running kMeans for k = 95  .........\n",
      "running kMeans for k = 96  .........\n",
      "running kMeans for k = 97  .........\n",
      "running kMeans for k = 98  .........\n",
      "running kMeans for k = 99  .........\n"
     ]
    },
    {
     "data": {
      "image/png": "[encoded data removed]",
      "text/plain": [
       "<Figure size 432x288 with 1 Axes>"
      ]
     },
     "metadata": {
      "needs_background": "light"
     },
     "output_type": "display_data"
    }
   ],
   "source": [
    "# Hyperparameters \n",
    "\n",
    "# Vary this as needed \n",
    "init_method = \"k-means++\"\n",
    "# Number of times to run algo with different centroid seeds \n",
    "n_init = 1\n",
    "max_iter = 10 \n",
    "# Runs each of the n_inits in parallel using specified number of threads\n",
    "n_jobs = 1\n",
    "\n",
    "\n",
    "\n",
    "# k means determine k\n",
    "distortions = []\n",
    "K = range(1,101)\n",
    "\n",
    "for k in K:\n",
    "    print(\"running kMeans for k =\", k, \" .........\")\n",
    "    kmeanModel = KMeans(n_clusters=k).fit(X)\n",
    "    kmeanModel.fit(X)\n",
    "    \n",
    "    clf_kMeans = KMeans(n_clusters=k, random_state=0)\n",
    "    clf_kMeans.fit(X)\n",
    "    distortions.append(sum(np.min(cdist(X, kmeanModel.cluster_centers_, 'euclidean'), axis=1)) / X.shape[0])\n",
    "\n",
    "    \n",
    "# Plot the elbow\n",
    "plt.plot(K, distortions, 'bx-')\n",
    "plt.xlabel('k')\n",
    "plt.ylabel('Distortion')\n",
    "plt.title('The Elbow Method showing varying k on USCI')\n",
    "plt.xlabel('Number of cluster centers, k')\n",
    "plt.ylabel('Sum of Squared Error')\n",
    "plt.show()\n",
    "\n",
    "\n",
    "\n",
    "# error = mean_squared_error(y, clf_kMeans.predict(X))\n",
    "# # test_err = mean_squared_error(y_test,\n",
    "# #                                     clf.predict(X_test))\n",
    "\n",
    "# print(\"Error: \", error)\n",
    "# print(\"Cluster centers: \", clf_kMeans.cluster_centers_)\n",
    "\n",
    "\n",
    "# # Plot results\n",
    "# print 'plotting results'\n",
    "# plt.figure()\n",
    "# title = 'Census Income kNN: Performance'\n",
    "# plt.title('\\n'.join(wrap(title,60)))\n",
    "# plt.plot(ks, test_err, '-', label='test error')\n",
    "# plt.plot(ks, train_err, '-', label='train error')\n",
    "# plt.legend()\n",
    "# plt.xlabel('Num Estimators')\n",
    "# plt.ylabel('Mean Square Error')\n",
    "# plt.savefig('plots/CensusIncome/kNN/zeroes_and_one/censusIncome_kNN.png')\n",
    "# print 'plot complete'\n",
    "# ### ---"
   ]
  },
  {
   "cell_type": "markdown",
   "metadata": {},
   "source": [
    "### Run kMeans Experiments (Vary init_method, keep k constant) "
   ]
  },
  {
   "cell_type": "code",
   "execution_count": 15,
   "metadata": {},
   "outputs": [
    {
     "name": "stdout",
     "output_type": "stream",
     "text": [
      "Running kMeans for max_iter = 100  and init_method: k-means++\n",
      "Running kMeans for max_iter = 120  and init_method: k-means++\n",
      "Running kMeans for max_iter = 140  and init_method: k-means++\n",
      "Running kMeans for max_iter = 160  and init_method: k-means++\n",
      "Running kMeans for max_iter = 180  and init_method: k-means++\n",
      "Running kMeans for max_iter = 200  and init_method: k-means++\n",
      "Running kMeans for max_iter = 220  and init_method: k-means++\n",
      "Running kMeans for max_iter = 240  and init_method: k-means++\n",
      "Running kMeans for max_iter = 260  and init_method: k-means++\n",
      "Running kMeans for max_iter = 280  and init_method: k-means++\n",
      "Running kMeans for max_iter = 300  and init_method: k-means++\n",
      "Running kMeans for max_iter = 320  and init_method: k-means++\n",
      "Running kMeans for max_iter = 340  and init_method: k-means++\n",
      "Running kMeans for max_iter = 360  and init_method: k-means++\n",
      "Running kMeans for max_iter = 380  and init_method: k-means++\n",
      "Running kMeans for max_iter = 400  and init_method: k-means++\n",
      "Running kMeans for max_iter = 100  and init_method: random\n",
      "Running kMeans for max_iter = 120  and init_method: random\n",
      "Running kMeans for max_iter = 140  and init_method: random\n",
      "Running kMeans for max_iter = 160  and init_method: random\n",
      "Running kMeans for max_iter = 180  and init_method: random\n",
      "Running kMeans for max_iter = 200  and init_method: random\n",
      "Running kMeans for max_iter = 220  and init_method: random\n",
      "Running kMeans for max_iter = 240  and init_method: random\n",
      "Running kMeans for max_iter = 260  and init_method: random\n",
      "Running kMeans for max_iter = 280  and init_method: random\n",
      "Running kMeans for max_iter = 300  and init_method: random\n",
      "Running kMeans for max_iter = 320  and init_method: random\n",
      "Running kMeans for max_iter = 340  and init_method: random\n",
      "Running kMeans for max_iter = 360  and init_method: random\n",
      "Running kMeans for max_iter = 380  and init_method: random\n",
      "Running kMeans for max_iter = 400  and init_method: random\n"
     ]
    },
    {
     "data": {
      "image/png": "[encoded data removed]",
      "text/plain": [
       "<Figure size 432x288 with 1 Axes>"
      ]
     },
     "metadata": {
      "needs_background": "light"
     },
     "output_type": "display_data"
    }
   ],
   "source": [
    "# Hyperparameters \n",
    "\n",
    "init_methods = [\"k-means++\", \"random\"]\n",
    "# Number of times to run algo with different centroid seeds \n",
    "n_init = 1\n",
    "max_iter = 10 \n",
    "# Runs each of the n_inits in parallel using specified number of threads\n",
    "n_jobs = 1\n",
    "\n",
    "\n",
    "distortions_random = []\n",
    "distortions_kplus = []\n",
    "\n",
    "# Fix k \n",
    "k = 20\n",
    "\n",
    "# Select range of max_iterations\n",
    "max_iterations = range(100, 420, 20)\n",
    "\n",
    "\n",
    "for init_method in init_methods: \n",
    "    for max_iter in max_iterations: \n",
    "        print(\"Running kMeans for max_iter =\", max_iter, \" and init_method:\", init_method)\n",
    "        kmeanModel = KMeans(n_clusters=k, init = init_method, max_iter=max_iter).fit(X)\n",
    "        kmeanModel.fit(X)\n",
    "\n",
    "    #     clf_kMeans = KMeans(n_clusters=k, random_state=0)\n",
    "        clf_kMeans = KMeans(n_clusters=k)\n",
    "        clf_kMeans.fit(X)\n",
    "        distortion = sum(np.min(cdist(X, kmeanModel.cluster_centers_, 'euclidean'), axis=1)) / X.shape[0]\n",
    "\n",
    "        if init_method == \"random\": \n",
    "            distortions_random.append(distortion)\n",
    "\n",
    "        elif init_method == \"k-means++\": \n",
    "            distortions_kplus.append(distortion)\n",
    "\n",
    "\n",
    "    \n",
    "# Plot the elbow\n",
    "\n",
    "plt.plot(max_iterations, distortions_random, '-', label='init_method: random')\n",
    "plt.plot(max_iterations, distortions_kplus, '-', label='init_method: k-means++')\n",
    "plt.xlabel('k')\n",
    "plt.ylabel('Distortion')\n",
    "plt.title('Comparing init_method options (USCI)')\n",
    "plt.xlabel('Max iterations for a single run')\n",
    "plt.ylabel('Sum of Squared Error')\n",
    "plt.legend()\n",
    "plt.show()\n",
    "\n",
    "\n",
    "# # Plot results\n",
    "# print 'plotting results'\n",
    "# plt.figure()\n",
    "# title = 'Census Income kNN: Performance'\n",
    "# plt.title('\\n'.join(wrap(title,60)))\n",
    "# plt.plot(ks, test_err, '-', label='test error')\n",
    "# plt.plot(ks, train_err, '-', label='train error')\n",
    "# plt.legend()\n",
    "# plt.xlabel('Num Estimators')\n",
    "# plt.ylabel('Mean Square Error')\n",
    "# plt.savefig('plots/CensusIncome/kNN/zeroes_and_one/censusIncome_kNN.png')\n",
    "# print 'plot complete'\n",
    "# ### ---"
   ]
  },
  {
   "cell_type": "markdown",
   "metadata": {},
   "source": [
    "### Run Expectation Maximization Experiments "
   ]
  },
  {
   "cell_type": "code",
   "execution_count": null,
   "metadata": {},
   "outputs": [
    {
     "name": "stdout",
     "output_type": "stream",
     "text": [
      "Running EM for k = 1  and cov: full        time taken so far:  0.0004119873046875\n",
      "Running EM for k = 2  and cov: full        time taken so far:  0.2659034729003906\n",
      "Running EM for k = 3  and cov: full        time taken so far:  1.705829381942749\n",
      "Running EM for k = 4  and cov: full        time taken so far:  4.1055333614349365\n"
     ]
    }
   ],
   "source": [
    "# Hyperparameters \n",
    "\n",
    "init_method = \"k-means++\"\n",
    "# Number of times to run algo with different centroid seeds \n",
    "n_init = 1\n",
    "max_iter = 10 \n",
    "# Runs each of the n_inits in parallel using specified number of threads\n",
    "n_jobs = 1\n",
    "\n",
    "covariance_types = ['full','tied','diag','spherical']\n",
    "\n",
    "\n",
    "# Hyperparameters \n",
    "\n",
    "# Vary this as needed \n",
    "init_method = \"k-means++\"\n",
    "# Number of times to run algo with different centroid seeds \n",
    "n_init = 1\n",
    "max_iter = 10 \n",
    "# Runs each of the n_inits in parallel using specified number of threads\n",
    "n_jobs = 1\n",
    "\n",
    "\n",
    "distortions_full = []\n",
    "distortions_tied = []\n",
    "# distortions_diag = []\n",
    "# distortions_spherical = []\n",
    "\n",
    "\n",
    "# covariance_types = ['full','tied','diag','spherical']\n",
    "covariance_types = ['full','tied']\n",
    "\n",
    "K = range(1,100)\n",
    "\n",
    "start_time = time.time()\n",
    "\n",
    "for cov in covariance_types: \n",
    "    for k in K:\n",
    "        print(\"Running EM for k =\", k, \" and cov:\", cov, \"       time taken so far: \", time.time() - start_time)\n",
    "        \n",
    "        kmeanModel = GaussianMixture(n_components=k,covariance_type=cov, reg_covar=0.0001)\n",
    "        kmeanModel.fit(X)\n",
    "\n",
    "        if cov == 'full': \n",
    "            distortions_full.append(kmeanModel.bic(X))\n",
    "        elif cov == 'tied': \n",
    "            distortions_tied.append(kmeanModel.bic(X))\n",
    "        elif cov == 'diag': \n",
    "            distortions_diag.append(kmeanModel.bic(X))\n",
    "        elif cov == 'spherical': \n",
    "            distortions_spherical.append(kmeanModel.bic(X))\n",
    "            \n",
    "        \n",
    "end_time = time.time()\n",
    "\n",
    "print(\"\\n\\n Time taken to run first 2: \", end_time - start_time)\n",
    "\n",
    "# plt.plot(K, distortions_full, '-', label='covariance type: full')\n",
    "# plt.plot(K, distortions_tied, '-', label='covariance type: tied')\n",
    "plt.plot(K, distortions_diag, '-', label='covariance type: diag')\n",
    "plt.plot(K, distortions_spherical, '-', label='covariance type: spherical')\n",
    "plt.title('The Elbow Method showing varying k on WBCD (EM)')\n",
    "plt.xlabel('Number of cluster centers')\n",
    "plt.ylabel('Bayesian Information Criterion')\n",
    "plt.legend()\n",
    "plt.show()\n",
    "\n"
   ]
  },
  {
   "cell_type": "code",
   "execution_count": null,
   "metadata": {},
   "outputs": [],
   "source": [
    "print(\"\\n\\n Time taken to run last 2: \", end_time - start_time)"
   ]
  },
  {
   "cell_type": "code",
   "execution_count": 25,
   "metadata": {},
   "outputs": [
    {
     "data": {
      "image/png": "[encoded data removed]",
      "text/plain": [
       "<Figure size 432x288 with 1 Axes>"
      ]
     },
     "metadata": {
      "needs_background": "light"
     },
     "output_type": "display_data"
    }
   ],
   "source": [
    "# plt.plot(K, distortions_full, '-', label='covariance type: full')\n",
    "# plt.plot(K, distortions_tied, '-', label='covariance type: tied')\n",
    "plt.plot(K, distortions_diag, '-', label='covariance type: diag')\n",
    "plt.plot(K, distortions_spherical, '-', label='covariance type: spherical')\n",
    "plt.title('The Elbow Method showing varying k on WBCD (EM) with different covariance')\n",
    "plt.xlabel('Number of cluster centers')\n",
    "plt.ylabel('Bayesian Information Criterion')\n",
    "plt.legend()\n",
    "plt.savefig('USCI_EM_Elbow.png')\n",
    "plt.show()"
   ]
  }
 ],
 "metadata": {
  "kernelspec": {
   "display_name": "Python 3",
   "language": "python",
   "name": "python3"
  },
  "language_info": {
   "codemirror_mode": {
    "name": "ipython",
    "version": 3
   },
   "file_extension": ".py",
   "mimetype": "text/x-python",
   "name": "python",
   "nbconvert_exporter": "python",
   "pygments_lexer": "ipython3",
   "version": "3.5.2"
  }
 },
 "nbformat": 4,
 "nbformat_minor": 2
}
