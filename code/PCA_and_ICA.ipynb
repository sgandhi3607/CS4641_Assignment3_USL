{
 "cells": [
  {
   "cell_type": "markdown",
   "metadata": {},
   "source": [
    "### Import Libraries"
   ]
  },
  {
   "cell_type": "code",
   "execution_count": 40,
   "metadata": {},
   "outputs": [],
   "source": [
    "import numpy as np\n",
    "import pandas as pd\n",
    "import time \n",
    "\n",
    "import matplotlib.pyplot as plt\n",
    "\n",
    "# from sklearn.cross_validation import cross_val_score\n",
    "from sklearn.metrics import mean_squared_error\n",
    "from sklearn.mixture import GaussianMixture\n",
    "from sklearn.model_selection import KFold\n",
    "from sklearn.model_selection import train_test_split\n",
    "from sklearn.neural_network import MLPClassifier\n",
    "from sklearn.preprocessing import StandardScaler\n",
    "from sklearn.utils import shuffle\n",
    "\n",
    "from sklearn.cluster import KMeans\n",
    "from sklearn.decomposition import FastICA\n",
    "from sklearn.decomposition import PCA\n",
    "from scipy.stats import kurtosis\n",
    "\n",
    "from textwrap import wrap"
   ]
  },
  {
   "cell_type": "markdown",
   "metadata": {},
   "source": [
    "### Load Dataset"
   ]
  },
  {
   "cell_type": "code",
   "execution_count": 2,
   "metadata": {},
   "outputs": [],
   "source": [
    "RANDOM_SEED = 25\n",
    "\n",
    "\n",
    "columns = ['Radius','Texture','Perimeter','Area','Smoothness','Compactness',\n",
    "           'Concavity','Concave_Points','Symmetry','Fractal_Dimension',\n",
    "           'Malignant/Benign']\n",
    "\n",
    "# Read CSV file into pandas df\n",
    "df = pd.read_csv('../datasets/breast_cancer/breast-cancer-wisconsin.csv',\n",
    "                 delimiter=',', quotechar='\"', names=columns)"
   ]
  },
  {
   "cell_type": "markdown",
   "metadata": {},
   "source": [
    "### Dataframe without Preprocessing "
   ]
  },
  {
   "cell_type": "code",
   "execution_count": 4,
   "metadata": {},
   "outputs": [
    {
     "name": "stdout",
     "output_type": "stream",
     "text": [
      "Printing dataframe head (without any preprocessing)....\n",
      "    Radius  Texture  Perimeter  Area  Smoothness  Compactness Concavity  \\\n",
      "0  1000025        5          1     1           1            2         1   \n",
      "1  1002945        5          4     4           5            7        10   \n",
      "2  1015425        3          1     1           1            2         2   \n",
      "3  1016277        6          8     8           1            3         4   \n",
      "4  1017023        4          1     1           3            2         1   \n",
      "5  1017122        8         10    10           8            7        10   \n",
      "6  1018099        1          1     1           1            2        10   \n",
      "7  1018561        2          1     2           1            2         1   \n",
      "8  1033078        2          1     1           1            2         1   \n",
      "9  1033078        4          2     1           1            2         1   \n",
      "\n",
      "   Concave_Points  Symmetry  Fractal_Dimension  Malignant/Benign  \n",
      "0               3         1                  1                 2  \n",
      "1               3         2                  1                 2  \n",
      "2               3         1                  1                 2  \n",
      "3               3         7                  1                 2  \n",
      "4               3         1                  1                 2  \n",
      "5               9         7                  1                 4  \n",
      "6               3         1                  1                 2  \n",
      "7               3         1                  1                 2  \n",
      "8               1         1                  5                 2  \n",
      "9               2         1                  1                 2  \n"
     ]
    }
   ],
   "source": [
    "print(\"Printing dataframe head (without any preprocessing)....\")\n",
    "print(df.head(10))"
   ]
  },
  {
   "cell_type": "markdown",
   "metadata": {},
   "source": [
    "### Dataset Preprocessing "
   ]
  },
  {
   "cell_type": "code",
   "execution_count": 5,
   "metadata": {},
   "outputs": [
    {
     "name": "stderr",
     "output_type": "stream",
     "text": [
      "/home/saksham/.local/lib/python3.5/site-packages/ipykernel_launcher.py:19: DeprecationWarning: \n",
      ".ix is deprecated. Please use\n",
      ".loc for label based indexing or\n",
      ".iloc for positional indexing\n",
      "\n",
      "See the documentation here:\n",
      "http://pandas.pydata.org/pandas-docs/stable/indexing.html#ix-indexer-is-deprecated\n"
     ]
    }
   ],
   "source": [
    "# Shuffle\n",
    "df = shuffle(df, random_state=RANDOM_SEED)\n",
    "\n",
    "# DROP USELESS ROWS AND COLUMNS\n",
    "df.dropna(inplace=True)\n",
    "cols = [0]\n",
    "# Drop ID column (it's not attribute or target)\n",
    "df.drop(df.columns[cols],axis=1,inplace=True)\n",
    "# Drop all data points with missing variables  (denoted by '?' entry)\n",
    "nostrings_row_list = [x.isdigit() for x in df.iloc[:,5]]\n",
    "df = df[nostrings_row_list]\n",
    "\n",
    "\n",
    "# Handle categorical data\n",
    "# df = pd.get_dummies(df)\n",
    "\n",
    "\n",
    "# Split data into X and y vectors\n",
    "X = df.ix[:, df.columns != 'Malignant/Benign']\n",
    "y = df['Malignant/Benign']\n",
    "\n",
    "# Change 2 -> 0 (benign) and 4 -> 1 (malignant)\n",
    "y.replace(2, 0, inplace=True)\n",
    "y.replace(4, 1, inplace=True)"
   ]
  },
  {
   "cell_type": "markdown",
   "metadata": {},
   "source": [
    "### Sanity Check on Dataframe \n"
   ]
  },
  {
   "cell_type": "code",
   "execution_count": 6,
   "metadata": {},
   "outputs": [
    {
     "name": "stdout",
     "output_type": "stream",
     "text": [
      "Sanity Check: Printing out dataframe and shape after preprocessing... \n",
      "     Texture  Perimeter  Area  Smoothness  Compactness Concavity  \\\n",
      "437        4          1     1           1            2         1   \n",
      "511        5          1     1           1            2         1   \n",
      "215        8          7     8           7            5         5   \n",
      "684        1          1     1           1            2         1   \n",
      "302       10         10    10           7            9        10   \n",
      "341        1          1     1           1            2         1   \n",
      "608        5         10    10          10           10        10   \n",
      "366        6         10    10          10            8        10   \n",
      "205        5         10    10           9            6        10   \n",
      "270        8          4     7           1            3        10   \n",
      "\n",
      "     Concave_Points  Symmetry  Fractal_Dimension  Malignant/Benign  \n",
      "437               1         1                  1                 0  \n",
      "511               2         1                  1                 0  \n",
      "215               5        10                  2                 1  \n",
      "684               1         1                  1                 0  \n",
      "302               7        10                 10                 1  \n",
      "341               3         1                  1                 0  \n",
      "608              10         1                  1                 1  \n",
      "366               7        10                  7                 1  \n",
      "205               7        10                  5                 1  \n",
      "270               3         9                  2                 1  \n",
      "df.shape:  (683, 10)\n"
     ]
    }
   ],
   "source": [
    "print(\"Sanity Check: Printing out dataframe and shape after preprocessing... \")\n",
    "print(df.head(10))\n",
    "print(\"df.shape: \", df.shape)\n"
   ]
  },
  {
   "cell_type": "markdown",
   "metadata": {},
   "source": [
    "### Training and Testing Split, Scaling "
   ]
  },
  {
   "cell_type": "code",
   "execution_count": null,
   "metadata": {},
   "outputs": [],
   "source": [
    "# # Split into 30%  training data, 70% testing data\n",
    "# X_train, X_test, y_train, y_test = train_test_split(X, y,\n",
    "#                                                     test_size=0.30, random_state=RANDOM_SEED)\n",
    "\n",
    "\n",
    "# # Apply scaling. Large values of certain features undesireable for NN\n",
    "# scaler = StandardScaler()\n",
    "# scaler.fit(X_train)\n",
    "# X_train = scaler.transform(X_train)\n",
    "# X_test = scaler.transform(X_test)"
   ]
  },
  {
   "cell_type": "markdown",
   "metadata": {},
   "source": [
    "### Sanity Check on X_train"
   ]
  },
  {
   "cell_type": "code",
   "execution_count": null,
   "metadata": {},
   "outputs": [],
   "source": [
    "# print(\"Sanity Check: Printing out X_train... \")\n",
    "# print(X_train[:4])\n",
    "# print(\"X_train.shape: \", X_train.shape)\n",
    "# print(\"X_test.shape: \", X_test.shape)\n",
    "# print(\"y_train.shape: \", y_train.shape)\n",
    "# print(\"y_test.shape: \", y_test.shape)"
   ]
  },
  {
   "cell_type": "markdown",
   "metadata": {},
   "source": [
    "### Hyperparameters "
   ]
  },
  {
   "cell_type": "code",
   "execution_count": 14,
   "metadata": {},
   "outputs": [],
   "source": [
    "n_comp = 4"
   ]
  },
  {
   "cell_type": "code",
   "execution_count": 11,
   "metadata": {},
   "outputs": [
    {
     "name": "stdout",
     "output_type": "stream",
     "text": [
      "     Texture  Perimeter  Area  Smoothness  Compactness Concavity  \\\n",
      "437        4          1     1           1            2         1   \n",
      "511        5          1     1           1            2         1   \n",
      "215        8          7     8           7            5         5   \n",
      "684        1          1     1           1            2         1   \n",
      "302       10         10    10           7            9        10   \n",
      "341        1          1     1           1            2         1   \n",
      "608        5         10    10          10           10        10   \n",
      "366        6         10    10          10            8        10   \n",
      "205        5         10    10           9            6        10   \n",
      "270        8          4     7           1            3        10   \n",
      "586        8         10    10          10            6        10   \n",
      "264        7          9     4          10           10         3   \n",
      "554        3          1     1           1            2         1   \n",
      "509        2          1     1           1            2         1   \n",
      "360        6         10    10          10           10        10   \n",
      "527        4          1     1           1            2         1   \n",
      "676        1          1     2           1            2         1   \n",
      "367        5          8     8          10            5        10   \n",
      "519        4          7     8           3            4        10   \n",
      "370        4          3     2           1            3         1   \n",
      "1          5          4     4           5            7        10   \n",
      "484        5          1     2           1            2         1   \n",
      "528        6          1     3           2            2         1   \n",
      "71         6         10     2           8           10         2   \n",
      "353        2          7    10          10            7        10   \n",
      "77         5          3     1           2            2         1   \n",
      "344        7          6     4           8           10        10   \n",
      "466       10          6     6           2            4        10   \n",
      "118        1          1     1           1            4         3   \n",
      "262        8          8     9           4            5        10   \n",
      "..       ...        ...   ...         ...          ...       ...   \n",
      "303        1          1     1           1            2         1   \n",
      "650        3          1     1           2            3         4   \n",
      "160       10          7     7           4            5        10   \n",
      "649        3          1     1           1            2         1   \n",
      "548        3          1     1           1            1         1   \n",
      "562        1          1     1           1            2         1   \n",
      "109        6          5     4           4            3         9   \n",
      "492        4          1     1           1            1         1   \n",
      "656        5          1     1           1            2         1   \n",
      "201       10          8     8           4           10        10   \n",
      "559        5          1     1           1            2         1   \n",
      "304        8          3     4           9            3        10   \n",
      "406        4          2     2           1            2         1   \n",
      "131        2          1     1           1            2         1   \n",
      "259        5          7     7           1            5         8   \n",
      "88         4          1     1           1            2         1   \n",
      "167       10          8    10          10            6         1   \n",
      "641        3          1     1           1            2         1   \n",
      "453        4          5     5           8            6        10   \n",
      "500        6          1     1           1            2         1   \n",
      "253        6         10    10           2            8        10   \n",
      "156        1          2     2           1            2         1   \n",
      "136        4          1     1           1            2         1   \n",
      "151        7          2     4           1            6        10   \n",
      "255        5          6     6           2            4        10   \n",
      "317        6          8     7           8            6         8   \n",
      "143        1          1     1           1            2         5   \n",
      "474        5          1     1           1            2         1   \n",
      "318        1          1     1           1            5         1   \n",
      "132        5         10     8          10            8        10   \n",
      "\n",
      "     Concave_Points  Symmetry  Fractal_Dimension  \n",
      "437               1         1                  1  \n",
      "511               2         1                  1  \n",
      "215               5        10                  2  \n",
      "684               1         1                  1  \n",
      "302               7        10                 10  \n",
      "341               3         1                  1  \n",
      "608              10         1                  1  \n",
      "366               7        10                  7  \n",
      "205               7        10                  5  \n",
      "270               3         9                  2  \n",
      "586              10        10                  1  \n",
      "264               5         3                  3  \n",
      "554               1         1                  1  \n",
      "509               1         1                  1  \n",
      "360               8        10                 10  \n",
      "527               3         1                  1  \n",
      "676               2         1                  1  \n",
      "367               8        10                  3  \n",
      "519               9         1                  1  \n",
      "370               2         1                  1  \n",
      "1                 3         2                  1  \n",
      "484               1         1                  1  \n",
      "528               1         1                  1  \n",
      "71                7         8                 10  \n",
      "353               4         9                  4  \n",
      "77                2         1                  1  \n",
      "344               9         5                  3  \n",
      "466               9         7                  1  \n",
      "118               1         1                  1  \n",
      "262               7         8                  1  \n",
      "..              ...       ...                ...  \n",
      "303               3         1                  1  \n",
      "650               1         1                  1  \n",
      "160               5         7                  2  \n",
      "649               2         1                  1  \n",
      "548               1         1                  1  \n",
      "562               3         1                  1  \n",
      "109               7         8                  3  \n",
      "492               2         1                  1  \n",
      "656               2         1                  1  \n",
      "201               8         1                  1  \n",
      "559               2         1                  1  \n",
      "304               3         3                  1  \n",
      "406               2         1                  1  \n",
      "131               3         1                  1  \n",
      "259               3         4                  1  \n",
      "88                3         1                  1  \n",
      "167               3         1                 10  \n",
      "641               2         1                  1  \n",
      "453              10         7                  1  \n",
      "500               3         1                  1  \n",
      "253               7         3                  3  \n",
      "156               2         1                  1  \n",
      "136               2         1                  1  \n",
      "151               5         4                  3  \n",
      "255               3         6                  1  \n",
      "317               8         9                  1  \n",
      "143               1         1                  1  \n",
      "474               1         1                  1  \n",
      "318               3         1                  1  \n",
      "132               3         6                  3  \n",
      "\n",
      "[683 rows x 9 columns]\n"
     ]
    }
   ],
   "source": [
    "print(X)"
   ]
  },
  {
   "cell_type": "markdown",
   "metadata": {},
   "source": [
    "### Run PCA"
   ]
  },
  {
   "cell_type": "code",
   "execution_count": 31,
   "metadata": {},
   "outputs": [
    {
     "name": "stdout",
     "output_type": "stream",
     "text": [
      "[0.69050756 0.07195066 0.06055921 0.04442012]\n",
      "Printing X_dim_reduced...\n",
      "[[-5.36299426e+00  8.05705204e-02 -1.11124737e+00  1.06752071e-01]\n",
      " [-4.77418017e+00  1.55436119e-02 -1.84084424e+00  1.12592753e-01]\n",
      " [ 9.98768241e+00  3.65294376e+00 -1.66526630e-01 -1.54485169e+00]\n",
      " ...\n",
      " [-5.06625849e+00  7.06387671e-03 -1.96325633e+00  1.53815806e-01]\n",
      " [-4.91982546e+00  9.18695072e-01  1.78457077e+00  4.49582730e-01]\n",
      " [ 1.23875561e+01 -7.39214050e-01  3.54122346e+00  2.71633788e+00]]\n"
     ]
    }
   ],
   "source": [
    "pca = PCA(n_components=n_comp)\n",
    "X_dim_reduced = pca.fit(X).transform(X)\n",
    "print(pca.explained_variance_ratio_)\n",
    "\n",
    "print(\"Printing X_dim_reduced...\")\n",
    "print(X_dim_reduced)\n"
   ]
  },
  {
   "cell_type": "code",
   "execution_count": 28,
   "metadata": {},
   "outputs": [
    {
     "name": "stdout",
     "output_type": "stream",
     "text": [
      "-6.901316640162848\n",
      "(683, 4)\n"
     ]
    }
   ],
   "source": [
    "fitter = GaussianMixture(n_components=2,covariance_type='full',n_init=10,max_iter=200).fit(X)\n",
    "print(fitter.lower_bound_)\n",
    "print(X_dim_reduced.shape)"
   ]
  },
  {
   "cell_type": "markdown",
   "metadata": {},
   "source": [
    "### Run ICA"
   ]
  },
  {
   "cell_type": "code",
   "execution_count": 43,
   "metadata": {},
   "outputs": [
    {
     "name": "stdout",
     "output_type": "stream",
     "text": [
      "[[-0.20826284 -0.08509828 -0.54112874 -0.21770731  0.15470086 -0.16251488\n",
      "   0.01970548  0.42313939 -0.61594593]\n",
      " [ 0.67862971 -0.32251087 -0.27562235 -0.23881558 -0.0136758  -0.4604734\n",
      "  -0.02277221 -0.29403922  0.05698658]\n",
      " [ 0.22004797  0.10357374  0.12929481 -0.65028219 -0.1613688   0.29685289\n",
      "   0.50083843  0.335072    0.15489801]\n",
      " [-0.00788009 -0.29758725 -0.2651934  -0.11453505 -0.34240802  0.67097776\n",
      "  -0.16981883 -0.41807914 -0.23843427]\n",
      " [ 0.48294998  0.22690557  0.03724099  0.47199937 -0.52854154  0.04301909\n",
      "   0.00997507  0.34569428 -0.30048634]\n",
      " [-0.24631531 -0.65017436 -0.01686189  0.06347376 -0.40576129 -0.13069574\n",
      "  -0.11897638  0.4152056   0.37949198]\n",
      " [-0.02193947  0.2082625   0.34878156 -0.47316296 -0.22556674 -0.16004757\n",
      "  -0.71165382  0.0648583  -0.15316755]\n",
      " [-0.30036415 -0.12596234  0.35570647 -0.05939838 -0.3822313  -0.3718944\n",
      "   0.44457196 -0.35159183 -0.39773402]\n",
      " [ 0.25098451 -0.50597106  0.54251307  0.07322412  0.4377419   0.20091707\n",
      "  -0.03263887  0.16645399 -0.34721751]]\n"
     ]
    },
    {
     "name": "stderr",
     "output_type": "stream",
     "text": [
      "/home/saksham/.local/lib/python3.5/site-packages/sklearn/decomposition/fastica_.py:299: UserWarning: Ignoring n_components with whiten=False.\n",
      "  warnings.warn('Ignoring n_components with whiten=False.')\n",
      "/home/saksham/.local/lib/python3.5/site-packages/sklearn/decomposition/fastica_.py:121: ConvergenceWarning: FastICA did not converge. Consider increasing tolerance or the maximum number of iterations.\n",
      "  ConvergenceWarning)\n"
     ]
    }
   ],
   "source": [
    "# Set n_comp for ICA portion of code \n",
    "n_comp = 7\n",
    "algs = ['parallel','deflation']\n",
    "\n",
    "# When you're running the real thing, iterate through these with a for loop \n",
    "alg = algs[0]\n",
    "ica = FastICA(n_components=n_comp,whiten=False,algorithm=alg)\n",
    "# kur0 = sum(kurtosis(X))\n",
    "ica = ica.fit(X)\n",
    "x_dimReduced_ICA = ica.transform(X)\n",
    "kur1 = sum(kurtosis(x_dimReduced_ICA))\n",
    "print(ica.components_)"
   ]
  }
 ],
 "metadata": {
  "kernelspec": {
   "display_name": "Python 3",
   "language": "python",
   "name": "python3"
  },
  "language_info": {
   "codemirror_mode": {
    "name": "ipython",
    "version": 3
   },
   "file_extension": ".py",
   "mimetype": "text/x-python",
   "name": "python",
   "nbconvert_exporter": "python",
   "pygments_lexer": "ipython3",
   "version": "3.5.2"
  }
 },
 "nbformat": 4,
 "nbformat_minor": 2
}
